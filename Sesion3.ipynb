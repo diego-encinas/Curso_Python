{
  "nbformat": 4,
  "nbformat_minor": 0,
  "metadata": {
    "colab": {
      "provenance": [],
      "authorship_tag": "ABX9TyNiu39+72fdvzb4HUwRAtAY",
      "include_colab_link": true
    },
    "kernelspec": {
      "name": "python3",
      "display_name": "Python 3"
    },
    "language_info": {
      "name": "python"
    }
  },
  "cells": [
    {
      "cell_type": "markdown",
      "metadata": {
        "id": "view-in-github",
        "colab_type": "text"
      },
      "source": [
        "<a href=\"https://colab.research.google.com/github/diego-encinas/Curso_Python/blob/main/Sesion3.ipynb\" target=\"_parent\"><img src=\"https://colab.research.google.com/assets/colab-badge.svg\" alt=\"Open In Colab\"/></a>"
      ]
    },
    {
      "cell_type": "code",
      "execution_count": 1,
      "metadata": {
        "colab": {
          "base_uri": "https://localhost:8080/"
        },
        "id": "Q7QMhueCsvNc",
        "outputId": "6e75f108-a5fe-4acb-b370-9f1278c426c5"
      },
      "outputs": [
        {
          "output_type": "stream",
          "name": "stdout",
          "text": [
            "Mayuscula: JUAN JOSE ROMERO ALIAGA\n",
            "Minuscula: juan jose romero aliaga\n",
            "Primera letra mayusucula: Juan Jose Romero Aliaga\n",
            "Tipo Oracion: Juan jose romero aliaga\n",
            "Contrario: <built-in method swapcase of str object at 0x7e29c572d4d0>\n"
          ]
        }
      ],
      "source": [
        "empleado=\"JuAN joSE romERO aliAGA\"\n",
        "print(\"Mayuscula:\",empleado.upper())\n",
        "print(\"Minuscula:\",empleado.lower())\n",
        "print(\"Primera letra mayusucula:\",empleado.title())\n",
        "print (\"Tipo Oracion:\",empleado.capitalize())\n",
        "print(\"Contrario:\", empleado.swapcase)"
      ]
    },
    {
      "cell_type": "code",
      "source": [
        "empleado=\"    Juan Jose    \"\n",
        "print(\"Elimina espacio blanco inicio:\",empleado.lstrip())\n",
        "print(\"Elimina espacio blanco final:\", empleado.rstrip())\n",
        "print(\"Elimina espacio blanco ambos lados:\",empleado.strip())"
      ],
      "metadata": {
        "colab": {
          "base_uri": "https://localhost:8080/"
        },
        "id": "l7PmU3CIv5C6",
        "outputId": "6d6bdcd1-395f-41b4-a636-3932e54a9d69"
      },
      "execution_count": 6,
      "outputs": [
        {
          "output_type": "stream",
          "name": "stdout",
          "text": [
            "Elimina espacio blanco inicio: Juan Jose    \n",
            "Elimina espacio blanco final:     Juan Jose\n",
            "Elimina espacio blanco ambos lados: Juan Jose\n"
          ]
        }
      ]
    },
    {
      "cell_type": "code",
      "source": [
        "empleado=\"____Juan Jose____\"\n",
        "print(\"Elimina espacio blanco inicio:\",empleado.lstrip(\"_\"))\n",
        "print(\"Elimina espacio blanco final:\", empleado.rstrip(\"_\"))\n",
        "print(\"Elimina espacio blanco ambos lados:\",empleado.strip(\"_\"))"
      ],
      "metadata": {
        "colab": {
          "base_uri": "https://localhost:8080/"
        },
        "id": "8XGi4Fcouep4",
        "outputId": "07e70056-76d1-4200-b4b8-a5db35c73042"
      },
      "execution_count": 5,
      "outputs": [
        {
          "output_type": "stream",
          "name": "stdout",
          "text": [
            "Elimina espacio blanco inicio: Juan Jose____\n",
            "Elimina espacio blanco final: ____Juan Jose\n",
            "Elimina espacio blanco ambos lados: Juan Jose\n"
          ]
        }
      ]
    },
    {
      "cell_type": "code",
      "source": [
        "empleado=\"Juan Jose Romero Aliaga\"\n",
        "print(\"Veces repite caracter:\",empleado.count(\"o\"))\n",
        "print(\"Busca posicion:\",empleado.find(\"o\"))\n",
        "print(\"Buscar posición a partir de:\",empleado.find(\"o\",7))\n",
        "print(\"Buscar posicion en un rango:\",empleado.find(\"o\",12,18))\n",
        "print(\"Buscar posicion del fina al inicio:\",empleado.rfind(\"o\"))"
      ],
      "metadata": {
        "colab": {
          "base_uri": "https://localhost:8080/"
        },
        "id": "R9bUwJNtwWGB",
        "outputId": "2c89a715-335e-4667-a92a-7bf0b291d2f8"
      },
      "execution_count": 10,
      "outputs": [
        {
          "output_type": "stream",
          "name": "stdout",
          "text": [
            "Veces repite caracter: 3\n",
            "Busca posicion: 6\n",
            "Buscar posición a partir de: 11\n",
            "Buscar posicion en un rango: 15\n",
            "Buscar posicion del fina al inicio: 15\n"
          ]
        }
      ]
    },
    {
      "cell_type": "code",
      "source": [
        "empleado=\"Juan Jose Romero Aliaga\"\n",
        "print(\"Busca posicion:\",empleado.index(\"o\"))\n",
        "print(\"Buscar posición a partir de:\",empleado.index(\"o\",7))\n",
        "print(\"Buscar posicion en un rango:\",empleado.index(\"o\",12,18))"
      ],
      "metadata": {
        "colab": {
          "base_uri": "https://localhost:8080/"
        },
        "id": "f83-8SgDzZMI",
        "outputId": "1e2ef01f-9d7f-4cec-dbd2-4c1d36f9d959"
      },
      "execution_count": 12,
      "outputs": [
        {
          "output_type": "stream",
          "name": "stdout",
          "text": [
            "Busca posicion: 6\n",
            "Buscar posición a partir de: 11\n",
            "Buscar posicion en un rango: 15\n"
          ]
        }
      ]
    },
    {
      "cell_type": "code",
      "source": [
        "print(\"Cantidad de caracteres:\", len(empleado))\n",
        "print(\"Reemplazar caracteres:\", empleado.replace(\"o\",\"x\"))"
      ],
      "metadata": {
        "colab": {
          "base_uri": "https://localhost:8080/"
        },
        "id": "8tGOnyfA0LB9",
        "outputId": "8133ab3e-38ad-4d5c-9c43-da11fa94e0de"
      },
      "execution_count": 13,
      "outputs": [
        {
          "output_type": "stream",
          "name": "stdout",
          "text": [
            "Cantidad de caracteres: 23\n",
            "Reemplazar caracteres: Juan Jxse Rxmerx Aliaga\n"
          ]
        }
      ]
    },
    {
      "cell_type": "code",
      "source": [
        "print(\"posicion 2:\",empleado[2])\n",
        "print(\"Mostrar a partir de posicion 5:\",empleado[5:])\n",
        "print(\"Mostrar a hsta la posicion 5:\",empleado[:5])\n",
        "print(\"Mostrar en un rango:\",empleado[5:9])"
      ],
      "metadata": {
        "colab": {
          "base_uri": "https://localhost:8080/"
        },
        "id": "9BHZZooL1liG",
        "outputId": "bb54797e-edb0-4b57-c1b0-2263a3a30a72"
      },
      "execution_count": 17,
      "outputs": [
        {
          "output_type": "stream",
          "name": "stdout",
          "text": [
            "posicion 2: a\n",
            "Mostrar a partir de posicion 5: Jose Romero Aliaga\n",
            "Mostrar a hsta la posicion 5: Juan \n",
            "Mostrar en un rango: Jose\n"
          ]
        }
      ]
    },
    {
      "cell_type": "code",
      "source": [
        "print(\"Repetir n veces: \",empleado*3)\n",
        "print(\"Separar en list:\",empleado.split(\" \"))"
      ],
      "metadata": {
        "colab": {
          "base_uri": "https://localhost:8080/"
        },
        "id": "faaYopyV3YFK",
        "outputId": "688278ea-2014-4b96-b940-b3eff859c9bc"
      },
      "execution_count": 19,
      "outputs": [
        {
          "output_type": "stream",
          "name": "stdout",
          "text": [
            "Repetir n veces:  Juan Jose Romero AliagaJuan Jose Romero AliagaJuan Jose Romero Aliaga\n",
            "Separar en list: ['Juan', 'Jose', 'Romero', 'Aliaga']\n"
          ]
        }
      ]
    },
    {
      "cell_type": "code",
      "source": [
        "print(\"Valor absoluto:\",abs(-23))\n",
        "print(\"Potencia:\",pow(4,3))\n",
        "print(\"Raiz N:\",pow(64,1/3))\n",
        "print(\"Redondear:\",round(434.45643,2))\n",
        "print(\"Division - Resto:\",divmod(11,3))"
      ],
      "metadata": {
        "colab": {
          "base_uri": "https://localhost:8080/"
        },
        "id": "TGbAR9QQ451D",
        "outputId": "33c29519-0fd2-41e6-8e71-88403fe98d21"
      },
      "execution_count": 21,
      "outputs": [
        {
          "output_type": "stream",
          "name": "stdout",
          "text": [
            "Valor absoluto: 23\n",
            "Potencia: 64\n",
            "Raiz N: 3.9999999999999996\n",
            "Redondear: 434.46\n",
            "Division - Resto: (3, 2)\n"
          ]
        }
      ]
    },
    {
      "cell_type": "code",
      "source": [
        "import math\n",
        "print(\"Redondear hacia arriba:\",math.ceil(123.54))\n",
        "print(\"Redondear hacia abajo:\",math.floor(123.54))\n",
        "print(\"Factorial:\",math.factorial(5))\n",
        "print(\"Exponencial:\",math.exp(1))\n",
        "print(\"Logaritmo:\",math.log(9,3))\n",
        "print(\"Logaritmo:\",math.log(1))\n",
        "print(\"Raiz cuadrada:\",math.sqrt(25))\n",
        "print(\"Seno:\",math.sin(0))\n",
        "print(\"Coseno:\",math.cos(0))\n",
        "print(\"Tangente:\",math.tan(0))\n",
        "print(\"Valor PI:\",math.pi)"
      ],
      "metadata": {
        "colab": {
          "base_uri": "https://localhost:8080/"
        },
        "id": "zd48WkLS6Q9v",
        "outputId": "bca8590c-1954-4916-87be-91b4bddc7975"
      },
      "execution_count": 29,
      "outputs": [
        {
          "output_type": "stream",
          "name": "stdout",
          "text": [
            "Redondear hacia arriba: 124\n",
            "Redondear hacia abajo: 123\n",
            "Factorial: 120\n",
            "Exponencial: 2.718281828459045\n",
            "Logaritmo: 2.0\n",
            "Logaritmo: 0.0\n",
            "Raiz cuadrada: 5.0\n",
            "Seno: 0.0\n",
            "Coseno: 1.0\n",
            "Tangente: 0.0\n",
            "Valor PI: 3.141592653589793\n"
          ]
        }
      ]
    },
    {
      "cell_type": "code",
      "source": [
        "import random\n",
        "print(\"Valores al azar 0 a 1:,\",random.random())\n",
        "print(\"Valores al azar 20 a 50:,\",random.randint(20,50))\n",
        "print(\"Valores al azar -20 a 50:,\",random.randint(-20,50))\n",
        "print(\"Valores al azar decimal:,\",random.uniform(-10,12))\n",
        "print(\"Valores al azar decimal:,\",random.uniform(-10.5,12.8))"
      ],
      "metadata": {
        "colab": {
          "base_uri": "https://localhost:8080/"
        },
        "id": "cfzC0HPK_Ytl",
        "outputId": "3321674c-3727-4bca-8b4f-1e5c810a7adf"
      },
      "execution_count": 35,
      "outputs": [
        {
          "output_type": "stream",
          "name": "stdout",
          "text": [
            "Valores al azar 0 a 1:, 0.8944391916964254\n",
            "Valores al azar 20 a 50:, 20\n",
            "Valores al azar -20 a 50:, -17\n",
            "Valores al azar decimal:, 6.131090742008624\n",
            "Valores al azar decimal:, -2.7575171997798593\n"
          ]
        }
      ]
    },
    {
      "cell_type": "code",
      "source": [
        "empleados=[\"Juan\",\"Jose\",\"Rosa\",\"Liz\",\"Pedro\",\"Maria\"]\n",
        "print(\"Elegir elemento al azar:\",random.choice(empleados))"
      ],
      "metadata": {
        "colab": {
          "base_uri": "https://localhost:8080/"
        },
        "id": "KQKd2v8OBkG1",
        "outputId": "f52259b0-861b-4203-b3f9-623d95b2a535"
      },
      "execution_count": 38,
      "outputs": [
        {
          "output_type": "stream",
          "name": "stdout",
          "text": [
            "Elegir elemento al azar: Liz\n"
          ]
        }
      ]
    },
    {
      "cell_type": "code",
      "source": [
        "random.shuffle(empleados)\n",
        "print(empleados)"
      ],
      "metadata": {
        "colab": {
          "base_uri": "https://localhost:8080/"
        },
        "id": "nMvITnT-CkaG",
        "outputId": "da773813-d846-49b5-82f7-ef84ed0642be"
      },
      "execution_count": 41,
      "outputs": [
        {
          "output_type": "stream",
          "name": "stdout",
          "text": [
            "['Maria', 'Rosa', 'Liz', 'Pedro', 'Jose', 'Juan']\n"
          ]
        }
      ]
    },
    {
      "cell_type": "code",
      "source": [
        "print(\"Seleccionar 1 elemento al azar:\",random.sample(empleados,1))\n",
        "print(\"Seleccionar 2 elemento al azar:\",random.sample(empleados,2))"
      ],
      "metadata": {
        "colab": {
          "base_uri": "https://localhost:8080/"
        },
        "id": "B2h4A_IfC8ck",
        "outputId": "5cec2935-f897-445a-c4a1-bf85da18fd31"
      },
      "execution_count": 46,
      "outputs": [
        {
          "output_type": "stream",
          "name": "stdout",
          "text": [
            "Seleccionar 1 elemento al azar: ['Pedro']\n",
            "Seleccionar 2 elemento al azar: ['Juan', 'Liz']\n"
          ]
        }
      ]
    },
    {
      "cell_type": "code",
      "source": [
        "from datetime import date\n",
        "fecha=date(2024,4,23)\n",
        "print (\"Fecha es:\",fecha)\n",
        "print(\"Fecha actual:\",date.today())\n",
        "print (\"Año:\",fecha.year)\n",
        "print (\"Mes:\",fecha.month)\n",
        "print (\"Dia:\",fecha.day)"
      ],
      "metadata": {
        "colab": {
          "base_uri": "https://localhost:8080/"
        },
        "id": "M2JV7ANcEsOx",
        "outputId": "96e69441-f72d-479c-826b-8f6460f2320f"
      },
      "execution_count": 51,
      "outputs": [
        {
          "output_type": "stream",
          "name": "stdout",
          "text": [
            "Fecha es: 2024-04-23\n",
            "Fecha actual: 2024-05-09\n",
            "Año: 2024\n",
            "Mes: 4\n",
            "Dia: 23\n"
          ]
        }
      ]
    },
    {
      "cell_type": "code",
      "source": [
        "from datetime import time\n",
        "tiempo=time(20,38,40)\n",
        "print(\"Tiempo es:\",tiempo)\n",
        "print(\"Hora es:\",tiempo.hour)\n",
        "print(\"Minuto es:\",tiempo.minute)\n",
        "print(\"Segundo es:\",tiempo.second)\n"
      ],
      "metadata": {
        "colab": {
          "base_uri": "https://localhost:8080/"
        },
        "id": "2WqALaZbGtvB",
        "outputId": "498aa550-f31b-4032-a66e-3e8113a3521e"
      },
      "execution_count": 52,
      "outputs": [
        {
          "output_type": "stream",
          "name": "stdout",
          "text": [
            "Tiempo es: 20:38:40\n",
            "Hora es: 20\n",
            "Minuto es: 38\n",
            "Segundo es: 40\n"
          ]
        }
      ]
    },
    {
      "cell_type": "code",
      "source": [
        "from datetime import datetime\n",
        "fecha=datetime.now()\n",
        "print(\"Fecha actual:\",fecha)\n",
        "print (\"Año:\",fecha.year)\n",
        "print (\"Mes:\",fecha.month)\n",
        "print (\"Dia:\",fecha.day)\n",
        "print(\"Hora es:\",fecha.hour)\n",
        "print(\"Minuto es:\",fecha.minute)\n",
        "print(\"Segundo es:\",fecha.second)"
      ],
      "metadata": {
        "colab": {
          "base_uri": "https://localhost:8080/"
        },
        "id": "kS07SF9_HXPL",
        "outputId": "c8ec4bd2-c4f2-4447-fb70-9092bdeea794"
      },
      "execution_count": 55,
      "outputs": [
        {
          "output_type": "stream",
          "name": "stdout",
          "text": [
            "Fecha actual: 2024-05-09 02:13:17.376147\n",
            "Año: 2024\n",
            "Mes: 5\n",
            "Dia: 9\n",
            "Hora es: 2\n",
            "Minuto es: 13\n",
            "Segundo es: 17\n"
          ]
        }
      ]
    },
    {
      "cell_type": "code",
      "source": [
        "from dateutil.relativedelta import relativedelta\n",
        "fecha1=datetime(2023,9,1)\n",
        "fecha2=datetime(2025,3,15)\n",
        "diferencia=relativedelta(fecha2,fecha1)\n",
        "print(\"diferencia de años:\",diferencia.years)\n",
        "print(\"diferencia de meses:\",diferencia.months)\n",
        "print(\"diferencia de dias:\",diferencia.days)"
      ],
      "metadata": {
        "colab": {
          "base_uri": "https://localhost:8080/"
        },
        "id": "NEyrtJriIsWv",
        "outputId": "0de9e848-c6e6-4239-e01f-b1e38097c4d9"
      },
      "execution_count": 58,
      "outputs": [
        {
          "output_type": "stream",
          "name": "stdout",
          "text": [
            "diferencia de años: 1\n",
            "diferencia de meses: 6\n",
            "diferencia de dias: 14\n"
          ]
        }
      ]
    },
    {
      "cell_type": "code",
      "source": [
        "x=datetime(2024,3,15,21,5)\n",
        "x=x.strftime(\"%A,%d de %B %Y es %I:%M %p\")\n",
        "print(x)"
      ],
      "metadata": {
        "colab": {
          "base_uri": "https://localhost:8080/"
        },
        "id": "NecBAXAYJ0vV",
        "outputId": "fd9f0e96-6ce5-4d8a-b8ab-e2359dece958"
      },
      "execution_count": 59,
      "outputs": [
        {
          "output_type": "stream",
          "name": "stdout",
          "text": [
            "Friday,15 de March 2024 es 09:05 PM\n"
          ]
        }
      ]
    },
    {
      "cell_type": "code",
      "source": [],
      "metadata": {
        "id": "mHkceIFtLeU2"
      },
      "execution_count": null,
      "outputs": []
    },
    {
      "cell_type": "markdown",
      "source": [
        "Ingresar nombre, apellido paterno y apellido materno como el siguiente\n",
        "formato: Juan,José Romero. Retornar por separado cada uno de ellos sin\n",
        "usar la función Split.\n"
      ],
      "metadata": {
        "id": "9h-KjyAJ4UeP"
      }
    },
    {
      "cell_type": "code",
      "source": [
        "def problema1(empleado):\n",
        "    nombre=empleado[0:empleado.find(\",\")]\n",
        "    paterno=empleado[empleado.find(\",\")+1:empleado.find(\" \")]\n",
        "    materno=empleado[empleado.find(\" \")+1:]\n",
        "    print(\"Nombre :\",nombre)\n",
        "    print(\"Apellido Paterno :\",paterno)\n",
        "    print(\"Apellido Materno :\",materno)\n",
        "problema1(\"Juan,José Romero\")\n"
      ],
      "metadata": {
        "colab": {
          "base_uri": "https://localhost:8080/"
        },
        "id": "Jr7cRTUD4WVo",
        "outputId": "17b1501e-7a42-4a69-d499-35b83ef469ba"
      },
      "execution_count": 68,
      "outputs": [
        {
          "output_type": "stream",
          "name": "stdout",
          "text": [
            "Nombre : Juan\n",
            "Apellido Paterno : José\n",
            "Apellido Materno : Romero\n"
          ]
        }
      ]
    },
    {
      "cell_type": "markdown",
      "source": [
        ". Contador de palabras: Crea una función que tome una cadena como entrada\n",
        "y devuelva el recuento de palabras en esa cadena."
      ],
      "metadata": {
        "id": "U6ZmYuUQPJt8"
      }
    },
    {
      "cell_type": "code",
      "source": [
        "def contarpalabras(cadena):\n",
        "  palabra=cadena.split()\n",
        "  print(\"Cantidad de palabras es:\",len(palabra))\n",
        "\n",
        "contarpalabras(\"Crea una función que tome una cadena\")"
      ],
      "metadata": {
        "colab": {
          "base_uri": "https://localhost:8080/"
        },
        "id": "TTDmYUx1POxW",
        "outputId": "b6f29007-f3a1-40d3-9ad9-2ef9b49316dd"
      },
      "execution_count": 69,
      "outputs": [
        {
          "output_type": "stream",
          "name": "stdout",
          "text": [
            "Cantidad de palabras es: 7\n"
          ]
        }
      ]
    },
    {
      "cell_type": "markdown",
      "source": [
        "Cálculo del área de un triángulo dadas las longitudes de sus lados: Escribe\n",
        "una función que tome las longitudes de los tres lados de un triángulo y\n",
        "devuelva su área utilizando la fórmula de Herón."
      ],
      "metadata": {
        "id": "lOvswwrAP7JC"
      }
    },
    {
      "cell_type": "code",
      "source": [
        "def triangulo(a,b,c):\n",
        "  s=(a+b+c)/2\n",
        "  area=math.sqrt(s*(s-a)*(s-b)*(s-c))\n",
        "  print(\"Area Triangulo es:\",area)\n",
        "\n",
        "triangulo(3,4,5)\n"
      ],
      "metadata": {
        "colab": {
          "base_uri": "https://localhost:8080/"
        },
        "id": "1mqnoMmTP_vi",
        "outputId": "0038b274-8d2f-4a82-fcb9-9d3d3b28c1ec"
      },
      "execution_count": 70,
      "outputs": [
        {
          "output_type": "stream",
          "name": "stdout",
          "text": [
            "Area Triangulo es: 6.0\n"
          ]
        }
      ]
    }
  ]
}