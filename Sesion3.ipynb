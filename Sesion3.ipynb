{
  "nbformat": 4,
  "nbformat_minor": 0,
  "metadata": {
    "colab": {
      "provenance": [],
      "authorship_tag": "ABX9TyP5fKI6x/wKe2bpJI0sgs4f",
      "include_colab_link": true
    },
    "kernelspec": {
      "name": "python3",
      "display_name": "Python 3"
    },
    "language_info": {
      "name": "python"
    }
  },
  "cells": [
    {
      "cell_type": "markdown",
      "metadata": {
        "id": "view-in-github",
        "colab_type": "text"
      },
      "source": [
        "<a href=\"https://colab.research.google.com/github/diego-encinas/Curso_Python/blob/main/Sesion3.ipynb\" target=\"_parent\"><img src=\"https://colab.research.google.com/assets/colab-badge.svg\" alt=\"Open In Colab\"/></a>"
      ]
    },
    {
      "cell_type": "code",
      "execution_count": 1,
      "metadata": {
        "colab": {
          "base_uri": "https://localhost:8080/"
        },
        "id": "Q7QMhueCsvNc",
        "outputId": "6e75f108-a5fe-4acb-b370-9f1278c426c5"
      },
      "outputs": [
        {
          "output_type": "stream",
          "name": "stdout",
          "text": [
            "Mayuscula: JUAN JOSE ROMERO ALIAGA\n",
            "Minuscula: juan jose romero aliaga\n",
            "Primera letra mayusucula: Juan Jose Romero Aliaga\n",
            "Tipo Oracion: Juan jose romero aliaga\n",
            "Contrario: <built-in method swapcase of str object at 0x7e29c572d4d0>\n"
          ]
        }
      ],
      "source": [
        "empleado=\"JuAN joSE romERO aliAGA\"\n",
        "print(\"Mayuscula:\",empleado.upper())\n",
        "print(\"Minuscula:\",empleado.lower())\n",
        "print(\"Primera letra mayusucula:\",empleado.title())\n",
        "print (\"Tipo Oracion:\",empleado.capitalize())\n",
        "print(\"Contrario:\", empleado.swapcase)"
      ]
    },
    {
      "cell_type": "code",
      "source": [
        "empleado=\"    Juan Jose    \"\n",
        "print(\"Elimina espacio blanco inicio:\",empleado.lstrip())\n",
        "print(\"Elimina espacio blanco final:\", empleado.rstrip())\n",
        "print(\"Elimina espacio blanco ambos lados:\",empleado.strip())"
      ],
      "metadata": {
        "colab": {
          "base_uri": "https://localhost:8080/"
        },
        "id": "l7PmU3CIv5C6",
        "outputId": "6d6bdcd1-395f-41b4-a636-3932e54a9d69"
      },
      "execution_count": 6,
      "outputs": [
        {
          "output_type": "stream",
          "name": "stdout",
          "text": [
            "Elimina espacio blanco inicio: Juan Jose    \n",
            "Elimina espacio blanco final:     Juan Jose\n",
            "Elimina espacio blanco ambos lados: Juan Jose\n"
          ]
        }
      ]
    },
    {
      "cell_type": "code",
      "source": [
        "empleado=\"____Juan Jose____\"\n",
        "print(\"Elimina espacio blanco inicio:\",empleado.lstrip(\"_\"))\n",
        "print(\"Elimina espacio blanco final:\", empleado.rstrip(\"_\"))\n",
        "print(\"Elimina espacio blanco ambos lados:\",empleado.strip(\"_\"))"
      ],
      "metadata": {
        "colab": {
          "base_uri": "https://localhost:8080/"
        },
        "id": "8XGi4Fcouep4",
        "outputId": "07e70056-76d1-4200-b4b8-a5db35c73042"
      },
      "execution_count": 5,
      "outputs": [
        {
          "output_type": "stream",
          "name": "stdout",
          "text": [
            "Elimina espacio blanco inicio: Juan Jose____\n",
            "Elimina espacio blanco final: ____Juan Jose\n",
            "Elimina espacio blanco ambos lados: Juan Jose\n"
          ]
        }
      ]
    },
    {
      "cell_type": "code",
      "source": [
        "empleado=\"Juan Jose Romero Aliaga\"\n",
        "print(\"Veces repite caracter:\",empleado.count(\"o\"))\n",
        "print(\"Busca posicion:\",empleado.find(\"o\"))\n",
        "print(\"Buscar posición a partir de:\",empleado.find(\"o\",7))\n",
        "print(\"Buscar posicion en un rango:\",empleado.find(\"o\",12,18))\n",
        "print(\"Buscar posicion del fina al inicio:\",empleado.rfind(\"o\"))"
      ],
      "metadata": {
        "colab": {
          "base_uri": "https://localhost:8080/"
        },
        "id": "R9bUwJNtwWGB",
        "outputId": "2c89a715-335e-4667-a92a-7bf0b291d2f8"
      },
      "execution_count": 10,
      "outputs": [
        {
          "output_type": "stream",
          "name": "stdout",
          "text": [
            "Veces repite caracter: 3\n",
            "Busca posicion: 6\n",
            "Buscar posición a partir de: 11\n",
            "Buscar posicion en un rango: 15\n",
            "Buscar posicion del fina al inicio: 15\n"
          ]
        }
      ]
    },
    {
      "cell_type": "code",
      "source": [
        "empleado=\"Juan Jose Romero Aliaga\"\n",
        "print(\"Busca posicion:\",empleado.index(\"o\"))\n",
        "print(\"Buscar posición a partir de:\",empleado.index(\"o\",7))\n",
        "print(\"Buscar posicion en un rango:\",empleado.index(\"o\",12,18))"
      ],
      "metadata": {
        "colab": {
          "base_uri": "https://localhost:8080/"
        },
        "id": "f83-8SgDzZMI",
        "outputId": "1e2ef01f-9d7f-4cec-dbd2-4c1d36f9d959"
      },
      "execution_count": 12,
      "outputs": [
        {
          "output_type": "stream",
          "name": "stdout",
          "text": [
            "Busca posicion: 6\n",
            "Buscar posición a partir de: 11\n",
            "Buscar posicion en un rango: 15\n"
          ]
        }
      ]
    },
    {
      "cell_type": "code",
      "source": [
        "print(\"Cantidad de caracteres:\", len(empleado))\n",
        "print(\"Reemplazar caracteres:\", empleado.replace(\"o\",\"x\"))"
      ],
      "metadata": {
        "colab": {
          "base_uri": "https://localhost:8080/"
        },
        "id": "8tGOnyfA0LB9",
        "outputId": "8133ab3e-38ad-4d5c-9c43-da11fa94e0de"
      },
      "execution_count": 13,
      "outputs": [
        {
          "output_type": "stream",
          "name": "stdout",
          "text": [
            "Cantidad de caracteres: 23\n",
            "Reemplazar caracteres: Juan Jxse Rxmerx Aliaga\n"
          ]
        }
      ]
    },
    {
      "cell_type": "code",
      "source": [
        "print(\"posicion 2:\",empleado[2])\n",
        "print(\"Mostrar a partir de posicion 5:\",empleado[5:])\n",
        "print(\"Mostrar a hsta la posicion 5:\",empleado[:5])\n",
        "print(\"Mostrar en un rango:\",empleado[5:9])"
      ],
      "metadata": {
        "colab": {
          "base_uri": "https://localhost:8080/"
        },
        "id": "9BHZZooL1liG",
        "outputId": "bb54797e-edb0-4b57-c1b0-2263a3a30a72"
      },
      "execution_count": 17,
      "outputs": [
        {
          "output_type": "stream",
          "name": "stdout",
          "text": [
            "posicion 2: a\n",
            "Mostrar a partir de posicion 5: Jose Romero Aliaga\n",
            "Mostrar a hsta la posicion 5: Juan \n",
            "Mostrar en un rango: Jose\n"
          ]
        }
      ]
    },
    {
      "cell_type": "code",
      "source": [
        "print(\"Repetir n veces: \",empleado*3)\n",
        "print(\"Separar en list:\",empleado.split(\" \"))"
      ],
      "metadata": {
        "colab": {
          "base_uri": "https://localhost:8080/"
        },
        "id": "faaYopyV3YFK",
        "outputId": "688278ea-2014-4b96-b940-b3eff859c9bc"
      },
      "execution_count": 19,
      "outputs": [
        {
          "output_type": "stream",
          "name": "stdout",
          "text": [
            "Repetir n veces:  Juan Jose Romero AliagaJuan Jose Romero AliagaJuan Jose Romero Aliaga\n",
            "Separar en list: ['Juan', 'Jose', 'Romero', 'Aliaga']\n"
          ]
        }
      ]
    },
    {
      "cell_type": "code",
      "source": [
        "print(\"Valor absoluto:\",abs(-23))\n",
        "print(\"Potencia:\",pow(4,3))\n",
        "print(\"Raiz N:\",pow(64,1/3))\n",
        "print(\"Redondear:\",round(434.45643,2))\n",
        "print(\"Division - Resto:\",divmod(11,3))"
      ],
      "metadata": {
        "colab": {
          "base_uri": "https://localhost:8080/"
        },
        "id": "TGbAR9QQ451D",
        "outputId": "33c29519-0fd2-41e6-8e71-88403fe98d21"
      },
      "execution_count": 21,
      "outputs": [
        {
          "output_type": "stream",
          "name": "stdout",
          "text": [
            "Valor absoluto: 23\n",
            "Potencia: 64\n",
            "Raiz N: 3.9999999999999996\n",
            "Redondear: 434.46\n",
            "Division - Resto: (3, 2)\n"
          ]
        }
      ]
    },
    {
      "cell_type": "code",
      "source": [
        "import math\n",
        "print(\"Redondear hacia arriba:\",math.ceil(123.54))\n",
        "print(\"Redondear hacia abajo:\",math.floor(123.54))\n",
        "print(\"Factorial:\",math.factorial(5))\n",
        "print(\"Exponencial:\",math.exp(1))\n",
        "print(\"Logaritmo:\",math.log(9,3))\n",
        "print(\"Logaritmo:\",math.log(1))\n",
        "print(\"Raiz cuadrada:\",math.sqrt(25))\n",
        "print(\"Seno:\",math.sin(0))\n",
        "print(\"Coseno:\",math.cos(0))\n",
        "print(\"Tangente:\",math.tan(0))\n",
        "print(\"Valor PI:\",math.pi)"
      ],
      "metadata": {
        "colab": {
          "base_uri": "https://localhost:8080/"
        },
        "id": "zd48WkLS6Q9v",
        "outputId": "bca8590c-1954-4916-87be-91b4bddc7975"
      },
      "execution_count": 29,
      "outputs": [
        {
          "output_type": "stream",
          "name": "stdout",
          "text": [
            "Redondear hacia arriba: 124\n",
            "Redondear hacia abajo: 123\n",
            "Factorial: 120\n",
            "Exponencial: 2.718281828459045\n",
            "Logaritmo: 2.0\n",
            "Logaritmo: 0.0\n",
            "Raiz cuadrada: 5.0\n",
            "Seno: 0.0\n",
            "Coseno: 1.0\n",
            "Tangente: 0.0\n",
            "Valor PI: 3.141592653589793\n"
          ]
        }
      ]
    },
    {
      "cell_type": "markdown",
      "source": [
        "Ingresar nombre, apellido paterno y apellido materno como el siguiente\n",
        "formato: Juan,José Romero. Retornar por separado cada uno de ellos sin\n",
        "usar la función Split.\n"
      ],
      "metadata": {
        "id": "9h-KjyAJ4UeP"
      }
    },
    {
      "cell_type": "code",
      "source": [],
      "metadata": {
        "id": "Jr7cRTUD4WVo"
      },
      "execution_count": null,
      "outputs": []
    }
  ]
}