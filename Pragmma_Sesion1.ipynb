{
  "nbformat": 4,
  "nbformat_minor": 0,
  "metadata": {
    "colab": {
      "provenance": [],
      "authorship_tag": "ABX9TyOY+YoECrQeRjnXkirbMjqB",
      "include_colab_link": true
    },
    "kernelspec": {
      "name": "python3",
      "display_name": "Python 3"
    },
    "language_info": {
      "name": "python"
    }
  },
  "cells": [
    {
      "cell_type": "markdown",
      "metadata": {
        "id": "view-in-github",
        "colab_type": "text"
      },
      "source": [
        "<a href=\"https://colab.research.google.com/github/diego-encinas/Curso_Python/blob/main/Pragmma_Sesion1.ipynb\" target=\"_parent\"><img src=\"https://colab.research.google.com/assets/colab-badge.svg\" alt=\"Open In Colab\"/></a>"
      ]
    },
    {
      "cell_type": "code",
      "execution_count": null,
      "metadata": {
        "colab": {
          "base_uri": "https://localhost:8080/"
        },
        "id": "de2WePTUbHlU",
        "outputId": "b2d78a1e-cf0e-45fa-a91d-166268e1e752"
      },
      "outputs": [
        {
          "output_type": "stream",
          "name": "stdout",
          "text": [
            "Empleado Diego Alexander\n",
            "Sueldo Basico es S/. 2400\n"
          ]
        }
      ],
      "source": [
        "empleado=\"Diego Alexander\"\n",
        "horas=40\n",
        "tarifa=60\n",
        "basico=horas*tarifa\n",
        "print('Empleado',empleado)\n",
        "print('Sueldo Basico es S/.',basico)"
      ]
    },
    {
      "cell_type": "code",
      "source": [
        "estudiante='Diego Encinas'\n",
        "exparcial=16\n",
        "exfinal=20\n",
        "proyecto=12\n",
        "promedio=(exparcial+exfinal+proyecto)//3\n",
        "print('Estudiante',estudiante,'tu promedio es:',promedio)"
      ],
      "metadata": {
        "id": "A4e7GAjyf6HB"
      },
      "execution_count": null,
      "outputs": []
    },
    {
      "cell_type": "code",
      "source": [
        "def funcion1(estudiante,exparcial,exfinal,proyecto):\n",
        "  promedio=(exparcial+exfinal+proyecto)//3\n",
        "  print('Estudiante',estudiante,'tu promedio es:',promedio)"
      ],
      "metadata": {
        "id": "bxbv4yjQhTFE"
      },
      "execution_count": 6,
      "outputs": []
    },
    {
      "cell_type": "code",
      "source": [
        "funcion1('Diego',14,13,19)"
      ],
      "metadata": {
        "colab": {
          "base_uri": "https://localhost:8080/"
        },
        "id": "26mIHtiphiQ1",
        "outputId": "d94fe04d-9af7-459b-b0c8-90477679b755"
      },
      "execution_count": 10,
      "outputs": [
        {
          "output_type": "stream",
          "name": "stdout",
          "text": [
            "Estudiante Diego tu promedio es: 15\n"
          ]
        }
      ]
    },
    {
      "cell_type": "code",
      "source": [
        "funcion1(\"Sofia\",18,16,20)"
      ],
      "metadata": {
        "colab": {
          "base_uri": "https://localhost:8080/"
        },
        "id": "QHT14Oj_lEa1",
        "outputId": "a5763d23-9a31-42a5-8bb1-4d05561da8ce"
      },
      "execution_count": 11,
      "outputs": [
        {
          "output_type": "stream",
          "name": "stdout",
          "text": [
            "Estudiante Sofia tu promedio es: 18\n"
          ]
        }
      ]
    },
    {
      "cell_type": "code",
      "source": [
        "def problema1(empleado,horas,tarifa):\n",
        "  basico=horas*tarifa\n",
        "  dscto=basico*0.12\n",
        "  neto=basico-dscto\n",
        "  print(\"Empleado\",empleado,\n",
        "        \"\\nSueldo Basico es: S/.\",basico,\n",
        "        \"\\nDescuento es: S/.\",dscto,\n",
        "        \"\\nSueldo Neto es: S/.\",neto)\n"
      ],
      "metadata": {
        "id": "XSIlVvj2ltwx"
      },
      "execution_count": 21,
      "outputs": []
    },
    {
      "cell_type": "code",
      "source": [
        "empleado=input(\"Ingrese Nombre: \")\n",
        "horas=int(input(\"Ingrese horas: \"))\n",
        "tarifa=int(input(\"Ingrese tarifa: \"))\n",
        "print(\"\\n\")\n",
        "problema1(empleado,horas,tarifa)"
      ],
      "metadata": {
        "colab": {
          "base_uri": "https://localhost:8080/"
        },
        "id": "77nL-wZdmzHa",
        "outputId": "f620d5b4-1a3c-4f74-e6e6-28b6cfc64f4b"
      },
      "execution_count": 22,
      "outputs": [
        {
          "output_type": "stream",
          "name": "stdout",
          "text": [
            "Ingrese Nombre: Diego\n",
            "Ingrese horas: 40\n",
            "Ingrese tarifa: 60\n",
            "\n",
            "\n",
            "Empleado Diego \n",
            "Sueldo Basico es: S/. 2400 \n",
            "Descuento es: S/. 288.0 \n",
            "Sueldo Neto es: S/. 2112.0\n"
          ]
        }
      ]
    },
    {
      "cell_type": "markdown",
      "source": [
        "Una institución social tiene un centro de salud, un comedor infantil, una escuela\n",
        "infantil y un asilo de ancianos. La institución recibe anualmente una donación\n",
        "que lo reparte de la siguiente forma: 25% de la donación para la implementación\n",
        "del centro de salud, 35% de la donación para el comedor infantil, 25% de la\n",
        "donación para la escuela infantil y el resto para el asilo de ancianos. Diseñe un\n",
        "algoritmo para efectuar el reparto de la donación."
      ],
      "metadata": {
        "id": "sQ1_I329taaE"
      }
    },
    {
      "cell_type": "code",
      "source": [
        "def problema2(donacion):\n",
        "  centrosalud=donacion*0.25\n",
        "  comedor=donacion*0.35\n",
        "  escuela=donacion*0.25\n",
        "  asilo=donacion*0.15\n",
        "  print(\"Centro de Salud: S/.\",centrosalud,\n",
        "        \"\\nComedor Infantil: S/.\",comedor,\n",
        "        \"\\nEscuela Infantil: S/.\",escuela,\n",
        "        \"\\nAsilo Ancianos: S/.\",asilo)"
      ],
      "metadata": {
        "id": "V8NHfFNKtJYo"
      },
      "execution_count": 25,
      "outputs": []
    },
    {
      "cell_type": "code",
      "source": [
        "problema2(750000)"
      ],
      "metadata": {
        "colab": {
          "base_uri": "https://localhost:8080/"
        },
        "id": "wH7sP5zyuGfL",
        "outputId": "7273a589-5951-4330-9acb-9c9b42aaf1e6"
      },
      "execution_count": 26,
      "outputs": [
        {
          "output_type": "stream",
          "name": "stdout",
          "text": [
            "Centro de Salud: S/. 187500.0 \n",
            "Comedor Infantil: S/. 262500.0 \n",
            "Escuela Infantil: S/. 187500.0 \n",
            "Asilo Ancianos: S/. 112500.0\n"
          ]
        }
      ]
    }
  ]
}