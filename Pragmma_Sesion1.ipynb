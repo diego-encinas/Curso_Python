{
  "nbformat": 4,
  "nbformat_minor": 0,
  "metadata": {
    "colab": {
      "provenance": [],
      "authorship_tag": "ABX9TyNhXtmMoqgHS77A+F+OBuiR",
      "include_colab_link": true
    },
    "kernelspec": {
      "name": "python3",
      "display_name": "Python 3"
    },
    "language_info": {
      "name": "python"
    }
  },
  "cells": [
    {
      "cell_type": "markdown",
      "metadata": {
        "id": "view-in-github",
        "colab_type": "text"
      },
      "source": [
        "<a href=\"https://colab.research.google.com/github/diego-encinas/Curso_Python/blob/main/Pragmma_Sesion1.ipynb\" target=\"_parent\"><img src=\"https://colab.research.google.com/assets/colab-badge.svg\" alt=\"Open In Colab\"/></a>"
      ]
    },
    {
      "cell_type": "code",
      "execution_count": null,
      "metadata": {
        "colab": {
          "base_uri": "https://localhost:8080/"
        },
        "id": "de2WePTUbHlU",
        "outputId": "b2d78a1e-cf0e-45fa-a91d-166268e1e752"
      },
      "outputs": [
        {
          "output_type": "stream",
          "name": "stdout",
          "text": [
            "Empleado Diego Alexander\n",
            "Sueldo Basico es S/. 2400\n"
          ]
        }
      ],
      "source": [
        "empleado=\"Diego Alexander\"\n",
        "horas=40\n",
        "tarifa=60\n",
        "basico=horas*tarifa\n",
        "print('Empleado',empleado)\n",
        "print('Sueldo Basico es S/.',basico)"
      ]
    },
    {
      "cell_type": "code",
      "source": [
        "estudiante='Diego Encinas'\n",
        "exparcial=16\n",
        "exfinal=20\n",
        "proyecto=12\n",
        "promedio=(exparcial+exfinal+proyecto)//3\n",
        "print('Estudiante',estudiante,'tu promedio es:',promedio)"
      ],
      "metadata": {
        "id": "A4e7GAjyf6HB"
      },
      "execution_count": null,
      "outputs": []
    },
    {
      "cell_type": "code",
      "source": [
        "def funcion1(estudiante,exparcial,exfinal,proyecto):\n",
        "  promedio=(exparcial+exfinal+proyecto)//3\n",
        "  print('Estudiante',estudiante,'tu promedio es:',promedio)"
      ],
      "metadata": {
        "id": "bxbv4yjQhTFE"
      },
      "execution_count": 6,
      "outputs": []
    },
    {
      "cell_type": "code",
      "source": [
        "funcion1('Diego Encinas',14,13,19)"
      ],
      "metadata": {
        "colab": {
          "base_uri": "https://localhost:8080/"
        },
        "id": "26mIHtiphiQ1",
        "outputId": "2365c43c-eeda-420d-cb90-3d8a7d441e60"
      },
      "execution_count": 8,
      "outputs": [
        {
          "output_type": "stream",
          "name": "stdout",
          "text": [
            "Estudiante Diego Encinas tu promedio es: 15\n"
          ]
        }
      ]
    }
  ]
}