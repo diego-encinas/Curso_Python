{
  "nbformat": 4,
  "nbformat_minor": 0,
  "metadata": {
    "colab": {
      "provenance": [],
      "authorship_tag": "ABX9TyNXYYd7mqu2/O+eEJGEd0ey",
      "include_colab_link": true
    },
    "kernelspec": {
      "name": "python3",
      "display_name": "Python 3"
    },
    "language_info": {
      "name": "python"
    }
  },
  "cells": [
    {
      "cell_type": "markdown",
      "metadata": {
        "id": "view-in-github",
        "colab_type": "text"
      },
      "source": [
        "<a href=\"https://colab.research.google.com/github/diego-encinas/Curso_Python/blob/main/Pragmma_Sesion1.ipynb\" target=\"_parent\"><img src=\"https://colab.research.google.com/assets/colab-badge.svg\" alt=\"Open In Colab\"/></a>"
      ]
    },
    {
      "cell_type": "code",
      "execution_count": null,
      "metadata": {
        "colab": {
          "base_uri": "https://localhost:8080/"
        },
        "id": "de2WePTUbHlU",
        "outputId": "b2d78a1e-cf0e-45fa-a91d-166268e1e752"
      },
      "outputs": [
        {
          "output_type": "stream",
          "name": "stdout",
          "text": [
            "Empleado Diego Alexander\n",
            "Sueldo Basico es S/. 2400\n"
          ]
        }
      ],
      "source": [
        "empleado=\"Diego Alexander\"\n",
        "horas=40\n",
        "tarifa=60\n",
        "basico=horas*tarifa\n",
        "print('Empleado',empleado)\n",
        "print('Sueldo Basico es S/.',basico)"
      ]
    },
    {
      "cell_type": "code",
      "source": [
        "estudiante='Diego Encinas'\n",
        "exparcial=16\n",
        "exfinal=20\n",
        "proyecto=12\n",
        "promedio=(exparcial+exfinal+proyecto)//3\n",
        "print('Estudiante',estudiante,'tu promedio es:',promedio)"
      ],
      "metadata": {
        "id": "A4e7GAjyf6HB"
      },
      "execution_count": null,
      "outputs": []
    },
    {
      "cell_type": "code",
      "source": [
        "def funcion1(estudiante,exparcial,exfinal,proyecto):\n",
        "  promedio=(exparcial+exfinal+proyecto)//3\n",
        "  print('Estudiante',estudiante,'tu promedio es:',promedio)"
      ],
      "metadata": {
        "id": "bxbv4yjQhTFE"
      },
      "execution_count": 6,
      "outputs": []
    },
    {
      "cell_type": "code",
      "source": [
        "funcion1('Diego',14,13,19)"
      ],
      "metadata": {
        "colab": {
          "base_uri": "https://localhost:8080/"
        },
        "id": "26mIHtiphiQ1",
        "outputId": "d94fe04d-9af7-459b-b0c8-90477679b755"
      },
      "execution_count": 10,
      "outputs": [
        {
          "output_type": "stream",
          "name": "stdout",
          "text": [
            "Estudiante Diego tu promedio es: 15\n"
          ]
        }
      ]
    },
    {
      "cell_type": "code",
      "source": [
        "funcion1(\"Sofia\",18,16,20)"
      ],
      "metadata": {
        "colab": {
          "base_uri": "https://localhost:8080/"
        },
        "id": "QHT14Oj_lEa1",
        "outputId": "a5763d23-9a31-42a5-8bb1-4d05561da8ce"
      },
      "execution_count": 11,
      "outputs": [
        {
          "output_type": "stream",
          "name": "stdout",
          "text": [
            "Estudiante Sofia tu promedio es: 18\n"
          ]
        }
      ]
    },
    {
      "cell_type": "code",
      "source": [
        "def problema2(empleado,horas,tarifa):\n",
        "  basico=horas*tarifa\n",
        "  dscto=basico*0.12\n",
        "  neto=basico-dscto\n",
        "  print(\"Empleado\",empleado,\n",
        "        \"\\nSueldo Basico es: S/.\",basico,\n",
        "        \"\\nDescuento es: S/.\",dscto,\n",
        "        \"\\nSueldo Neto es: S/.\",neto)\n"
      ],
      "metadata": {
        "id": "XSIlVvj2ltwx"
      },
      "execution_count": 16,
      "outputs": []
    },
    {
      "cell_type": "code",
      "source": [
        "empleado=input(\"Ingrese Nombre: \")\n",
        "horas=int(input(\"Ingrese horas: \"))\n",
        "tarifa=int(input(\"Ingrese tarifa: \"))\n",
        "print(\"\\n\")\n",
        "problema2(empleado,horas,tarifa)"
      ],
      "metadata": {
        "colab": {
          "base_uri": "https://localhost:8080/"
        },
        "id": "77nL-wZdmzHa",
        "outputId": "813aa882-1ce2-4bc5-f03e-c7ea8ab1b9d2"
      },
      "execution_count": 20,
      "outputs": [
        {
          "output_type": "stream",
          "name": "stdout",
          "text": [
            "Ingrese Nombre: Diego\n",
            "Ingrese horas: 40\n",
            "Ingrese tarifa: 5\n",
            "\n",
            "\n",
            "Empleado Diego \n",
            "Sueldo Basico es: S/. 200 \n",
            "Descuento es: S/. 24.0 \n",
            "Sueldo Neto es: S/. 176.0\n"
          ]
        }
      ]
    },
    {
      "cell_type": "markdown",
      "source": [],
      "metadata": {
        "id": "EJGWa3RHlyyf"
      }
    }
  ]
}