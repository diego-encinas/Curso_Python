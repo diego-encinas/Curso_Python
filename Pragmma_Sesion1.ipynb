{
  "nbformat": 4,
  "nbformat_minor": 0,
  "metadata": {
    "colab": {
      "provenance": [],
      "authorship_tag": "ABX9TyNTYLAK9e2R9jYWO+1AWAgS",
      "include_colab_link": true
    },
    "kernelspec": {
      "name": "python3",
      "display_name": "Python 3"
    },
    "language_info": {
      "name": "python"
    }
  },
  "cells": [
    {
      "cell_type": "markdown",
      "metadata": {
        "id": "view-in-github",
        "colab_type": "text"
      },
      "source": [
        "<a href=\"https://colab.research.google.com/github/diego-encinas/Curso_Python/blob/main/Pragmma_Sesion1.ipynb\" target=\"_parent\"><img src=\"https://colab.research.google.com/assets/colab-badge.svg\" alt=\"Open In Colab\"/></a>"
      ]
    },
    {
      "cell_type": "code",
      "execution_count": null,
      "metadata": {
        "colab": {
          "base_uri": "https://localhost:8080/"
        },
        "id": "de2WePTUbHlU",
        "outputId": "b2d78a1e-cf0e-45fa-a91d-166268e1e752"
      },
      "outputs": [
        {
          "output_type": "stream",
          "name": "stdout",
          "text": [
            "Empleado Diego Alexander\n",
            "Sueldo Basico es S/. 2400\n"
          ]
        }
      ],
      "source": [
        "empleado=\"Diego Alexander\"\n",
        "horas=40\n",
        "tarifa=60\n",
        "basico=horas*tarifa\n",
        "print('Empleado',empleado)\n",
        "print('Sueldo Basico es S/.',basico)"
      ]
    },
    {
      "cell_type": "code",
      "source": [
        "estudiante='Diego Encinas'\n",
        "exparcial=16\n",
        "exfinal=20\n",
        "proyecto=12\n",
        "promedio=(exparcial+exfinal+proyecto)//3\n",
        "print('Estudiante',estudiante,'tu promedio es:',promedio)"
      ],
      "metadata": {
        "id": "A4e7GAjyf6HB"
      },
      "execution_count": null,
      "outputs": []
    },
    {
      "cell_type": "code",
      "source": [
        "def funcion1(estudiante,exparcial,exfinal,proyecto):\n",
        "  promedio=(exparcial+exfinal+proyecto)//3\n",
        "  print('Estudiante',estudiante,'tu promedio es:',promedio)"
      ],
      "metadata": {
        "id": "bxbv4yjQhTFE"
      },
      "execution_count": 6,
      "outputs": []
    },
    {
      "cell_type": "code",
      "source": [
        "funcion1('Diego',14,13,19)"
      ],
      "metadata": {
        "colab": {
          "base_uri": "https://localhost:8080/"
        },
        "id": "26mIHtiphiQ1",
        "outputId": "d94fe04d-9af7-459b-b0c8-90477679b755"
      },
      "execution_count": 10,
      "outputs": [
        {
          "output_type": "stream",
          "name": "stdout",
          "text": [
            "Estudiante Diego tu promedio es: 15\n"
          ]
        }
      ]
    },
    {
      "cell_type": "code",
      "source": [
        "funcion1(\"Sofia\",18,16,20)"
      ],
      "metadata": {
        "colab": {
          "base_uri": "https://localhost:8080/"
        },
        "id": "QHT14Oj_lEa1",
        "outputId": "a5763d23-9a31-42a5-8bb1-4d05561da8ce"
      },
      "execution_count": 11,
      "outputs": [
        {
          "output_type": "stream",
          "name": "stdout",
          "text": [
            "Estudiante Sofia tu promedio es: 18\n"
          ]
        }
      ]
    },
    {
      "cell_type": "code",
      "source": [
        "def problema1(empleado,horas,tarifa):\n",
        "  basico=horas*tarifa\n",
        "  dscto=basico*0.12\n",
        "  neto=basico-dscto\n",
        "  print(\"Empleado\",empleado,\n",
        "        \"\\nSueldo Basico es: S/.\",basico,\n",
        "        \"\\nDescuento es: S/.\",dscto,\n",
        "        \"\\nSueldo Neto es: S/.\",neto)\n"
      ],
      "metadata": {
        "id": "XSIlVvj2ltwx"
      },
      "execution_count": 21,
      "outputs": []
    },
    {
      "cell_type": "code",
      "source": [
        "empleado=input(\"Ingrese Nombre: \")\n",
        "horas=int(input(\"Ingrese horas: \"))\n",
        "tarifa=int(input(\"Ingrese tarifa: \"))\n",
        "print(\"\\n\")\n",
        "problema1(empleado,horas,tarifa)"
      ],
      "metadata": {
        "colab": {
          "base_uri": "https://localhost:8080/"
        },
        "id": "77nL-wZdmzHa",
        "outputId": "f620d5b4-1a3c-4f74-e6e6-28b6cfc64f4b"
      },
      "execution_count": 22,
      "outputs": [
        {
          "output_type": "stream",
          "name": "stdout",
          "text": [
            "Ingrese Nombre: Diego\n",
            "Ingrese horas: 40\n",
            "Ingrese tarifa: 60\n",
            "\n",
            "\n",
            "Empleado Diego \n",
            "Sueldo Basico es: S/. 2400 \n",
            "Descuento es: S/. 288.0 \n",
            "Sueldo Neto es: S/. 2112.0\n"
          ]
        }
      ]
    },
    {
      "cell_type": "markdown",
      "source": [
        "Una institución social tiene un centro de salud, un comedor infantil, una escuela\n",
        "infantil y un asilo de ancianos. La institución recibe anualmente una donación\n",
        "que lo reparte de la siguiente forma: 25% de la donación para la implementación\n",
        "del centro de salud, 35% de la donación para el comedor infantil, 25% de la\n",
        "donación para la escuela infantil y el resto para el asilo de ancianos. Diseñe un\n",
        "algoritmo para efectuar el reparto de la donación."
      ],
      "metadata": {
        "id": "sQ1_I329taaE"
      }
    },
    {
      "cell_type": "code",
      "source": [
        "def problema2(donacion):\n",
        "  centrosalud=donacion*0.25\n",
        "  comedor=donacion*0.35\n",
        "  escuela=donacion*0.25\n",
        "  asilo=donacion*0.15\n",
        "  print(\"Centro de Salud: S/.\",centrosalud,\n",
        "        \"\\nComedor Infantil: S/.\",comedor,\n",
        "        \"\\nEscuela Infantil: S/.\",escuela,\n",
        "        \"\\nAsilo Ancianos: S/.\",asilo)"
      ],
      "metadata": {
        "id": "V8NHfFNKtJYo"
      },
      "execution_count": 25,
      "outputs": []
    },
    {
      "cell_type": "code",
      "source": [
        "problema2(750000)"
      ],
      "metadata": {
        "colab": {
          "base_uri": "https://localhost:8080/"
        },
        "id": "wH7sP5zyuGfL",
        "outputId": "7273a589-5951-4330-9acb-9c9b42aaf1e6"
      },
      "execution_count": 26,
      "outputs": [
        {
          "output_type": "stream",
          "name": "stdout",
          "text": [
            "Centro de Salud: S/. 187500.0 \n",
            "Comedor Infantil: S/. 262500.0 \n",
            "Escuela Infantil: S/. 187500.0 \n",
            "Asilo Ancianos: S/. 112500.0\n"
          ]
        }
      ]
    },
    {
      "cell_type": "markdown",
      "source": [
        "Débora, Raquel y Sófia aportan cantidades de dinero para formar un capital.\n",
        "Diseñe un programa que determine el capital formado y el porcentaje de dicho\n",
        "capital que aporta cada uno.\n"
      ],
      "metadata": {
        "id": "9xgWzdpRvxZc"
      }
    },
    {
      "cell_type": "code",
      "source": [
        "def problema3(debora,raquel,sofia):\n",
        "  capital=debora+raquel+sofia\n",
        "  pordebora=debora*100/capital\n",
        "  porraquel=raquel*100/capital\n",
        "  porsofia=sofia*100/capital\n",
        "  print(\"Capital es: S/.\",capital,\"%\",\n",
        "      \"\\nPorcentaje de Debora es: S/.\",round(pordebora,2),\"%\",\n",
        "      \"\\nPorcentaje de Raquel es: S/.\",round(porraquel,2),\"%\",\n",
        "      \"\\nPorcentaje de Sofia es: S/.\",round(porsofia,2),\"%\")"
      ],
      "metadata": {
        "id": "6juIIsjpvy18"
      },
      "execution_count": 31,
      "outputs": []
    },
    {
      "cell_type": "code",
      "source": [
        "problema3(40000,20000,50000)"
      ],
      "metadata": {
        "colab": {
          "base_uri": "https://localhost:8080/"
        },
        "id": "fpVttvPdwpOs",
        "outputId": "4aa1caaa-f8fa-42f8-fa11-c6f2c729144f"
      },
      "execution_count": 32,
      "outputs": [
        {
          "output_type": "stream",
          "name": "stdout",
          "text": [
            "Capital es: S/. 110000 % \n",
            "Porcentaje de Debora es: S/. 36 % \n",
            "Porcentaje de Raquel es: S/. 18 % \n",
            "Porcentaje de Sofia es: S/. 45 %\n"
          ]
        }
      ]
    },
    {
      "cell_type": "markdown",
      "source": [
        "Una tienda ha puesto en oferta la venta de un producto ofreciendo un 11% de\n",
        "descuento sobre el importe de la compra. Diseñe un algoritmo que determine el\n",
        "importe de la compra, el importe del descuento y el importe a pagar por la\n",
        "compra de cierta cantidad de unidades del producto."
      ],
      "metadata": {
        "id": "4gb5TJhExNwf"
      }
    },
    {
      "cell_type": "code",
      "source": [
        "def problema4(producto,preciounid,cantidad):\n",
        "  impcompra=preciounid*cantidad\n",
        "  dscto=impcompra*0.11\n",
        "  imppagar=impcompra-dscto\n",
        "  print(\"Para una cantidad de\",cantidad,producto,\n",
        "        \"\\nImporte de la Compra: S/.\",impcompra,\n",
        "        \"\\nImporte de Descuento: S/.\",dscto,\n",
        "        \"\\nImporte a Pagar: S/.\",imppagar)"
      ],
      "metadata": {
        "id": "uaTbo99JxQ0D"
      },
      "execution_count": 38,
      "outputs": []
    },
    {
      "cell_type": "code",
      "source": [
        "problema4(\"monitor\",10,10)"
      ],
      "metadata": {
        "colab": {
          "base_uri": "https://localhost:8080/"
        },
        "id": "wnMy-DMuyjj7",
        "outputId": "5cd4ede5-ea4f-4eca-c680-2c22996f53d7"
      },
      "execution_count": 39,
      "outputs": [
        {
          "output_type": "stream",
          "name": "stdout",
          "text": [
            "Para una cantidad de 10 monitor \n",
            "Importe de la Compra: S/. 100 \n",
            "Importe de Descuento: S/. 11.0 \n",
            "Importe a Pagar: S/. 89.0\n"
          ]
        }
      ]
    },
    {
      "cell_type": "markdown",
      "source": [
        "Calcular detalle de liquidación de empleado. Según los datos ingresados\n",
        "empleado, sueldo básico, años de servicio y número de hijos. Calcular:\n",
        "a. Liquidación: 65% de sueldo por años de servicio\n",
        "b. CTS: 30% de liquidación\n",
        "c. Asignación Familiar: Si tiene hijos el 5% de sueldo por años de servicio\n",
        "d. Neto: Liquidación + CTS + Asignación Familiar"
      ],
      "metadata": {
        "id": "TNyfYnVxzoPT"
      }
    },
    {
      "cell_type": "code",
      "source": [
        "def problema5(empleado,sueldo,tiempo,hijos):\n",
        "  liquidacion=(sueldo*tiempo)*0.65\n",
        "  cts=liquidacion*0.30\n",
        "  if (hijos>0):\n",
        "    asigfamiliar=(hijos*sueldo*tiempo)*0.05\n",
        "  else:\n",
        "    asigfamiliar=0\n",
        "\n",
        "  neto=liquidacion+cts+asigfamiliar\n",
        "  print(\"Empleado\",empleado,\n",
        "        \"\\nLiquidacion:\",liquidacion,\n",
        "        \"\\nCTS:\",cts,\n",
        "        \"\\nAsignacion Familiar:\",asigfamiliar,\n",
        "        \"\\nNeto:\",neto)"
      ],
      "metadata": {
        "id": "gv9dG2n6zqNS"
      },
      "execution_count": 46,
      "outputs": []
    },
    {
      "cell_type": "code",
      "source": [
        "problema5(\"Diego\",2500,5,0)"
      ],
      "metadata": {
        "colab": {
          "base_uri": "https://localhost:8080/"
        },
        "id": "SEEe8ysP1QqK",
        "outputId": "021bc388-4767-49ef-da5e-dc45173d91da"
      },
      "execution_count": 48,
      "outputs": [
        {
          "output_type": "stream",
          "name": "stdout",
          "text": [
            "Empleado Diego \n",
            "Liquidacion: 8125.0 \n",
            "CTS: 2437.5 \n",
            "Asignacion Familiar: 0 \n",
            "Neto: 10562.5\n"
          ]
        }
      ]
    },
    {
      "cell_type": "markdown",
      "source": [
        "El cálculo del pago mensual de un empleado de una empresa se efectúa de la\n",
        "siguiente manera: el sueldo básico se calcula en base al número total de horas\n",
        "trabajadas basado en una tarifa horaria; al sueldo básico, se le aplica una\n",
        "bonificación del 20% obteniéndose el sueldo bruto; al sueldo bruto, se le aplica\n",
        "un descuento del 10% obteniéndose el sueldo neto. Escriba un programa que\n",
        "calcule e imprima el sueldo básico, el sueldo bruto y el sueldo neto de un\n",
        "trabajador"
      ],
      "metadata": {
        "id": "SNsQklbY2saV"
      }
    },
    {
      "cell_type": "code",
      "source": [
        "def problema6(empleado,tarifa,horas):\n",
        "  sbasico=horas*tarifa\n",
        "  sbruto=sbasico+(sbasico*0.20)\n",
        "  sneto=sbruto-(sbruto*0.10)\n",
        "  print(\"Empleado:\",empleado,\n",
        "        \"\\nSueldo Basico: S/.\",sbasico,\n",
        "        \"\\nSueldo Bruto: S/.\",sbruto,\n",
        "        \"\\nSueldo Neto: S/.\",sneto)"
      ],
      "metadata": {
        "id": "eJzI2JwE2uN3"
      },
      "execution_count": 58,
      "outputs": []
    },
    {
      "cell_type": "code",
      "source": [
        "problema6(\"Diego\",45,60)"
      ],
      "metadata": {
        "colab": {
          "base_uri": "https://localhost:8080/"
        },
        "id": "i-im3S2l4TP7",
        "outputId": "167304e2-a829-4a86-f9a5-34c246cfca70"
      },
      "execution_count": 59,
      "outputs": [
        {
          "output_type": "stream",
          "name": "stdout",
          "text": [
            "Empleado: Diego \n",
            "Sueldo Basico: S/. 2700 \n",
            "Sueldo Bruto: S/. 3240.0 \n",
            "Sueldo Neto: S/. 2916.0\n"
          ]
        }
      ]
    },
    {
      "cell_type": "markdown",
      "source": [
        "Una empresa paga a sus vendedores un sueldo básico mensual de S/.300. El\n",
        "sueldo bruto es igual al sueldo básico más una comisión, que es igual al 9% del\n",
        "monto total vendido. Por ley, todo vendedor se somete a un descuento del 11%.\n",
        "Diseñe un programa que calcule la comisión, el sueldo bruto, el descuento y el\n",
        "sueldo neto de un vendedor de la empresa.\n"
      ],
      "metadata": {
        "id": "_lKS_rVd6Fof"
      }
    },
    {
      "cell_type": "code",
      "source": [
        "from inspect import CO_ITERABLE_COROUTINE\n",
        "def problema7(vendedor,mtvendido):\n",
        "  sbasico=300\n",
        "  comision=mtvendido*0.09\n",
        "  sbruto=sbasico+comision\n",
        "  dscto=sbruto*0.11\n",
        "  sneto=sbruto-dscto\n",
        "  print(\"Vendedor\",vendedor,\n",
        "        \"\\n Comision es de S/.:\",comision,\n",
        "        \"\\nSueldo Bruto es de S/.:\",sbruto,\n",
        "        \"\\nDescuento es de S/.:\",dscto,\n",
        "        \"\\nSueldo Neto es de S/.:\",sneto)\n"
      ],
      "metadata": {
        "id": "QiphNNpp6HfZ"
      },
      "execution_count": 63,
      "outputs": []
    },
    {
      "cell_type": "code",
      "source": [
        "problema7(\"Diego\",45000)"
      ],
      "metadata": {
        "colab": {
          "base_uri": "https://localhost:8080/"
        },
        "id": "HxLmsPuX7RM2",
        "outputId": "8aee3423-2985-4bf2-9a61-faab04479034"
      },
      "execution_count": 64,
      "outputs": [
        {
          "output_type": "stream",
          "name": "stdout",
          "text": [
            "Vendedor Diego \n",
            " Comision es de S/.: 4050.0 \n",
            "Sueldo Bruto es de S/.: 4350.0 \n",
            "Descuento es de S/.: 478.5 \n",
            "Sueldo Neto es de S/.: 3871.5\n"
          ]
        }
      ]
    },
    {
      "cell_type": "markdown",
      "source": [
        "Ingresar el precio de un producto, la cantidad de cuotas a pagar y el interés\n",
        "a cobrar.\n",
        "Mostrar el pago por cuotas, pago neto que pago y diferencia de pago si pagaba\n",
        "al contado.\n"
      ],
      "metadata": {
        "id": "jYZDJdEN7lNL"
      }
    },
    {
      "cell_type": "code",
      "source": [
        "def problema8(producto,precio,cantidad,cuotas,interes):\n",
        "  total=precio*cantidad\n",
        "  neto=total*(1+interes/100)\n",
        "  montocuota=neto/cuotas\n",
        "  diferencia=neto-total\n",
        "  print(\"Total es: S/.\",total,\n",
        "        \"\\nMonto Neto es: S/.\",neto,\n",
        "        \"\\nMonto Cuota es: S/.\",montocuota,\n",
        "        \"\\nDiferencia es: S/.\",diferencia)\n"
      ],
      "metadata": {
        "id": "aQ221N4O7obX"
      },
      "execution_count": 65,
      "outputs": []
    },
    {
      "cell_type": "code",
      "source": [
        "problema8(\"Cocina\",7500,2,10,15)"
      ],
      "metadata": {
        "colab": {
          "base_uri": "https://localhost:8080/"
        },
        "id": "v4wA2EId-Qdn",
        "outputId": "7b81c99f-3243-4fdd-e0cf-08b6c2283b3f"
      },
      "execution_count": 66,
      "outputs": [
        {
          "output_type": "stream",
          "name": "stdout",
          "text": [
            "Total es: S/. 15000 \n",
            "Monto Neto es: S/. 17250.0 \n",
            "Monto Cuota es: S/. 1725.0 \n",
            "Diferencia es: S/. 2250.0\n"
          ]
        }
      ]
    }
  ]
}