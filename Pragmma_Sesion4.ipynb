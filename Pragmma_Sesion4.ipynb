{
  "nbformat": 4,
  "nbformat_minor": 0,
  "metadata": {
    "colab": {
      "provenance": [],
      "authorship_tag": "ABX9TyM1AQmS9WxzP/OZ/VqNM0P1",
      "include_colab_link": true
    },
    "kernelspec": {
      "name": "python3",
      "display_name": "Python 3"
    },
    "language_info": {
      "name": "python"
    }
  },
  "cells": [
    {
      "cell_type": "markdown",
      "metadata": {
        "id": "view-in-github",
        "colab_type": "text"
      },
      "source": [
        "<a href=\"https://colab.research.google.com/github/diego-encinas/Curso_Python/blob/main/Pragmma_Sesion4.ipynb\" target=\"_parent\"><img src=\"https://colab.research.google.com/assets/colab-badge.svg\" alt=\"Open In Colab\"/></a>"
      ]
    },
    {
      "cell_type": "code",
      "execution_count": 3,
      "metadata": {
        "colab": {
          "base_uri": "https://localhost:8080/",
          "height": 35
        },
        "id": "-pbg8JZc1LBr",
        "outputId": "8b9b92a1-7639-4754-bae3-b93b400ad08d"
      },
      "outputs": [
        {
          "output_type": "execute_result",
          "data": {
            "text/plain": [
              "'Ana'"
            ],
            "application/vnd.google.colaboratory.intrinsic+json": {
              "type": "string"
            }
          },
          "metadata": {},
          "execution_count": 3
        }
      ],
      "source": [
        "#           0       1     2       3       4     5\n",
        "contactos=[\"Juan\",\"Jose\",\"Ana\",\"Maria\",\"Rosa\",\"Liz\"]\n",
        "#           -6      -5    -4    -3      -2      -1\n",
        "\n",
        "contactos"
      ]
    },
    {
      "cell_type": "code",
      "source": [
        "contactos[2]"
      ],
      "metadata": {
        "colab": {
          "base_uri": "https://localhost:8080/",
          "height": 35
        },
        "id": "MCYz9RhH26vt",
        "outputId": "57149331-e83c-4961-a8c5-d3e1b7eda6ba"
      },
      "execution_count": 4,
      "outputs": [
        {
          "output_type": "execute_result",
          "data": {
            "text/plain": [
              "'Ana'"
            ],
            "application/vnd.google.colaboratory.intrinsic+json": {
              "type": "string"
            }
          },
          "metadata": {},
          "execution_count": 4
        }
      ]
    },
    {
      "cell_type": "code",
      "source": [
        "contactos[-4]"
      ],
      "metadata": {
        "colab": {
          "base_uri": "https://localhost:8080/",
          "height": 35
        },
        "id": "misP-UQc27vn",
        "outputId": "3b68986a-3fee-4938-8db3-5889d8361a26"
      },
      "execution_count": 5,
      "outputs": [
        {
          "output_type": "execute_result",
          "data": {
            "text/plain": [
              "'Ana'"
            ],
            "application/vnd.google.colaboratory.intrinsic+json": {
              "type": "string"
            }
          },
          "metadata": {},
          "execution_count": 5
        }
      ]
    },
    {
      "cell_type": "code",
      "source": [
        "contactos[2:]"
      ],
      "metadata": {
        "colab": {
          "base_uri": "https://localhost:8080/"
        },
        "id": "yr59KwrM3OqW",
        "outputId": "94fd959c-fbda-469e-9029-bde368c14e47"
      },
      "execution_count": 6,
      "outputs": [
        {
          "output_type": "execute_result",
          "data": {
            "text/plain": [
              "['Ana', 'Maria', 'Rosa', 'Liz']"
            ]
          },
          "metadata": {},
          "execution_count": 6
        }
      ]
    },
    {
      "cell_type": "code",
      "source": [
        "contactos[-3:]"
      ],
      "metadata": {
        "colab": {
          "base_uri": "https://localhost:8080/"
        },
        "id": "c-N4tm4O3pp_",
        "outputId": "38fe5cda-bba8-4de7-d97a-6247e8829b17"
      },
      "execution_count": 7,
      "outputs": [
        {
          "output_type": "execute_result",
          "data": {
            "text/plain": [
              "['Maria', 'Rosa', 'Liz']"
            ]
          },
          "metadata": {},
          "execution_count": 7
        }
      ]
    },
    {
      "cell_type": "code",
      "source": [
        "contactos[:3]"
      ],
      "metadata": {
        "colab": {
          "base_uri": "https://localhost:8080/"
        },
        "id": "iNSWrCVt4Qqe",
        "outputId": "16b145ed-0bc7-46c5-d947-b7641a7ccb9e"
      },
      "execution_count": 8,
      "outputs": [
        {
          "output_type": "execute_result",
          "data": {
            "text/plain": [
              "['Juan', 'Jose', 'Ana']"
            ]
          },
          "metadata": {},
          "execution_count": 8
        }
      ]
    },
    {
      "cell_type": "code",
      "source": [
        "contactos[:-3]"
      ],
      "metadata": {
        "colab": {
          "base_uri": "https://localhost:8080/"
        },
        "id": "3qYDJx6N4agv",
        "outputId": "fed5a0dd-de4f-40ca-a3b1-84cd5397709e"
      },
      "execution_count": 9,
      "outputs": [
        {
          "output_type": "execute_result",
          "data": {
            "text/plain": [
              "['Juan', 'Jose', 'Ana']"
            ]
          },
          "metadata": {},
          "execution_count": 9
        }
      ]
    },
    {
      "cell_type": "code",
      "source": [
        "contactos[2:5]"
      ],
      "metadata": {
        "colab": {
          "base_uri": "https://localhost:8080/"
        },
        "id": "KKv6sqSV4-tq",
        "outputId": "2c797cec-7294-4922-cf41-90b58dc9f33c"
      },
      "execution_count": 10,
      "outputs": [
        {
          "output_type": "execute_result",
          "data": {
            "text/plain": [
              "['Ana', 'Maria', 'Rosa']"
            ]
          },
          "metadata": {},
          "execution_count": 10
        }
      ]
    },
    {
      "cell_type": "code",
      "source": [
        "contactos[-5:-2]"
      ],
      "metadata": {
        "colab": {
          "base_uri": "https://localhost:8080/"
        },
        "id": "q0eu7tkP5cbn",
        "outputId": "b0052be1-4cfd-4c45-e6b6-45cd31636a48"
      },
      "execution_count": 11,
      "outputs": [
        {
          "output_type": "execute_result",
          "data": {
            "text/plain": [
              "['Jose', 'Ana', 'Maria']"
            ]
          },
          "metadata": {},
          "execution_count": 11
        }
      ]
    },
    {
      "cell_type": "code",
      "source": [
        "len(contactos)"
      ],
      "metadata": {
        "colab": {
          "base_uri": "https://localhost:8080/"
        },
        "id": "ZoFzYGx86SMq",
        "outputId": "401d7651-97bc-4004-83ec-86fb73bc2808"
      },
      "execution_count": 12,
      "outputs": [
        {
          "output_type": "execute_result",
          "data": {
            "text/plain": [
              "6"
            ]
          },
          "metadata": {},
          "execution_count": 12
        }
      ]
    },
    {
      "cell_type": "code",
      "source": [
        "contactos.append(\"Juan\")\n",
        "contactos"
      ],
      "metadata": {
        "colab": {
          "base_uri": "https://localhost:8080/"
        },
        "id": "T-qDD0TR6WUY",
        "outputId": "c5f9f349-2b4b-46fe-b9e0-efbc7db0e89a"
      },
      "execution_count": 14,
      "outputs": [
        {
          "output_type": "execute_result",
          "data": {
            "text/plain": [
              "['Juan', 'Jose', 'Ana', 'Maria', 'Rosa', 'Liz', 'Juan']"
            ]
          },
          "metadata": {},
          "execution_count": 14
        }
      ]
    },
    {
      "cell_type": "code",
      "source": [
        "contactos.count(\"Juan\")"
      ],
      "metadata": {
        "colab": {
          "base_uri": "https://localhost:8080/"
        },
        "id": "AUc-VJGf61Vu",
        "outputId": "9455f0ea-747e-4721-bd54-44acd093ab48"
      },
      "execution_count": 15,
      "outputs": [
        {
          "output_type": "execute_result",
          "data": {
            "text/plain": [
              "2"
            ]
          },
          "metadata": {},
          "execution_count": 15
        }
      ]
    },
    {
      "cell_type": "code",
      "source": [
        "contactos.insert(2,\"Flavio\")\n",
        "contactos"
      ],
      "metadata": {
        "colab": {
          "base_uri": "https://localhost:8080/"
        },
        "id": "zcpP-BIv7M-a",
        "outputId": "7cf7ab11-ebe9-4b55-96bb-5d28c42d600e"
      },
      "execution_count": 16,
      "outputs": [
        {
          "output_type": "execute_result",
          "data": {
            "text/plain": [
              "['Juan', 'Jose', 'Flavio', 'Ana', 'Maria', 'Rosa', 'Liz', 'Juan']"
            ]
          },
          "metadata": {},
          "execution_count": 16
        }
      ]
    },
    {
      "cell_type": "code",
      "source": [
        "contactos.pop(2)\n",
        "contactos"
      ],
      "metadata": {
        "colab": {
          "base_uri": "https://localhost:8080/"
        },
        "id": "_t1Nq8Cb7ngF",
        "outputId": "151df9e1-4135-4cb4-fa60-6185e6ddb156"
      },
      "execution_count": 17,
      "outputs": [
        {
          "output_type": "execute_result",
          "data": {
            "text/plain": [
              "['Juan', 'Jose', 'Ana', 'Maria', 'Rosa', 'Liz', 'Juan']"
            ]
          },
          "metadata": {},
          "execution_count": 17
        }
      ]
    },
    {
      "cell_type": "code",
      "source": [
        "contactos.remove(\"Juan\")\n",
        "contactos"
      ],
      "metadata": {
        "colab": {
          "base_uri": "https://localhost:8080/"
        },
        "id": "KOnwX7mk8A6C",
        "outputId": "3d3659be-31f8-4071-e373-d0b1d740a818"
      },
      "execution_count": 18,
      "outputs": [
        {
          "output_type": "execute_result",
          "data": {
            "text/plain": [
              "['Jose', 'Ana', 'Maria', 'Rosa', 'Liz', 'Juan']"
            ]
          },
          "metadata": {},
          "execution_count": 18
        }
      ]
    },
    {
      "cell_type": "code",
      "source": [
        "contactos.reverse()\n",
        "contactos"
      ],
      "metadata": {
        "colab": {
          "base_uri": "https://localhost:8080/"
        },
        "id": "H9WC7Al18o1M",
        "outputId": "85c97958-c298-4676-c0e5-0e2d1685ffab"
      },
      "execution_count": 19,
      "outputs": [
        {
          "output_type": "execute_result",
          "data": {
            "text/plain": [
              "['Juan', 'Liz', 'Rosa', 'Maria', 'Ana', 'Jose']"
            ]
          },
          "metadata": {},
          "execution_count": 19
        }
      ]
    },
    {
      "cell_type": "code",
      "source": [
        "contactos.sort()#Ordenar siempre y cuando sea de un mismo tipo de elemento\n",
        "contactos"
      ],
      "metadata": {
        "colab": {
          "base_uri": "https://localhost:8080/"
        },
        "id": "AJsqJYpt8uSW",
        "outputId": "23ec9bda-c397-46aa-b676-8dc52d8abef9"
      },
      "execution_count": 20,
      "outputs": [
        {
          "output_type": "execute_result",
          "data": {
            "text/plain": [
              "['Ana', 'Jose', 'Juan', 'Liz', 'Maria', 'Rosa']"
            ]
          },
          "metadata": {},
          "execution_count": 20
        }
      ]
    },
    {
      "cell_type": "code",
      "source": [
        "contactos.sort(reverse=True)#Ordenar de forma descendente siempre y cuando sea de un mismo tipo de elemento\n",
        "contactos"
      ],
      "metadata": {
        "colab": {
          "base_uri": "https://localhost:8080/"
        },
        "id": "dNUJs4n09d3G",
        "outputId": "b5da33c0-264e-45df-ff08-5a9dc48104ae"
      },
      "execution_count": 21,
      "outputs": [
        {
          "output_type": "execute_result",
          "data": {
            "text/plain": [
              "['Rosa', 'Maria', 'Liz', 'Juan', 'Jose', 'Ana']"
            ]
          },
          "metadata": {},
          "execution_count": 21
        }
      ]
    },
    {
      "cell_type": "code",
      "source": [
        "nuevos=[\"Alan\",\"Mariela\",\"Sandro\"]\n",
        "data=contactos+nuevos\n",
        "data"
      ],
      "metadata": {
        "colab": {
          "base_uri": "https://localhost:8080/"
        },
        "id": "j0bJnf9S-Dpu",
        "outputId": "0062bbde-e8cf-47d3-e629-d28726634c9c"
      },
      "execution_count": 22,
      "outputs": [
        {
          "output_type": "execute_result",
          "data": {
            "text/plain": [
              "['Rosa', 'Maria', 'Liz', 'Juan', 'Jose', 'Ana', 'Alan', 'Mariela', 'Sandro']"
            ]
          },
          "metadata": {},
          "execution_count": 22
        }
      ]
    },
    {
      "cell_type": "code",
      "source": [
        "data.clear()\n",
        "data"
      ],
      "metadata": {
        "colab": {
          "base_uri": "https://localhost:8080/"
        },
        "id": "gQAlricZ-iW5",
        "outputId": "962fa0d6-2a87-4dcb-afe6-63a9708d35bf"
      },
      "execution_count": 23,
      "outputs": [
        {
          "output_type": "execute_result",
          "data": {
            "text/plain": [
              "[]"
            ]
          },
          "metadata": {},
          "execution_count": 23
        }
      ]
    },
    {
      "cell_type": "code",
      "source": [
        "nuevos=nuevos*3\n",
        "nuevos"
      ],
      "metadata": {
        "colab": {
          "base_uri": "https://localhost:8080/"
        },
        "id": "KsUt0iVJ-zEZ",
        "outputId": "70be8886-b2ca-4be0-9228-4a7dee7c641f"
      },
      "execution_count": 24,
      "outputs": [
        {
          "output_type": "execute_result",
          "data": {
            "text/plain": [
              "['Alan',\n",
              " 'Mariela',\n",
              " 'Sandro',\n",
              " 'Alan',\n",
              " 'Mariela',\n",
              " 'Sandro',\n",
              " 'Alan',\n",
              " 'Mariela',\n",
              " 'Sandro']"
            ]
          },
          "metadata": {},
          "execution_count": 24
        }
      ]
    },
    {
      "cell_type": "code",
      "source": [
        "#Tupla\n",
        "datos=(\"Juan\",8600,\"Ana\",7600,\"Luz\",9450)\n",
        "datos"
      ],
      "metadata": {
        "colab": {
          "base_uri": "https://localhost:8080/"
        },
        "id": "UxfIaPn3_4Gp",
        "outputId": "89aa5452-2a70-499b-bbf0-e179f8a490b6"
      },
      "execution_count": 32,
      "outputs": [
        {
          "output_type": "execute_result",
          "data": {
            "text/plain": [
              "('Juan', 8600, 'Ana', 7600, 'Luz', 9450)"
            ]
          },
          "metadata": {},
          "execution_count": 32
        }
      ]
    },
    {
      "cell_type": "code",
      "source": [
        "datos[2]"
      ],
      "metadata": {
        "colab": {
          "base_uri": "https://localhost:8080/",
          "height": 35
        },
        "id": "Oi62zbobAkfk",
        "outputId": "b75d3cd6-effe-4ffa-d8a1-9c404cef75c9"
      },
      "execution_count": 26,
      "outputs": [
        {
          "output_type": "execute_result",
          "data": {
            "text/plain": [
              "'Ana'"
            ],
            "application/vnd.google.colaboratory.intrinsic+json": {
              "type": "string"
            }
          },
          "metadata": {},
          "execution_count": 26
        }
      ]
    },
    {
      "cell_type": "code",
      "source": [
        "datos[-4]"
      ],
      "metadata": {
        "colab": {
          "base_uri": "https://localhost:8080/",
          "height": 35
        },
        "id": "mnWDjdGTAmo_",
        "outputId": "a3f0babb-13e8-48c5-81ff-652636b02ac7"
      },
      "execution_count": 27,
      "outputs": [
        {
          "output_type": "execute_result",
          "data": {
            "text/plain": [
              "'Ana'"
            ],
            "application/vnd.google.colaboratory.intrinsic+json": {
              "type": "string"
            }
          },
          "metadata": {},
          "execution_count": 27
        }
      ]
    },
    {
      "cell_type": "code",
      "source": [
        "datos[3:]"
      ],
      "metadata": {
        "colab": {
          "base_uri": "https://localhost:8080/"
        },
        "id": "gL8lNiN4Az42",
        "outputId": "8901f032-5edd-45e0-dd96-5c102de6b11f"
      },
      "execution_count": 28,
      "outputs": [
        {
          "output_type": "execute_result",
          "data": {
            "text/plain": [
              "(7600, 'Luz', 9450)"
            ]
          },
          "metadata": {},
          "execution_count": 28
        }
      ]
    },
    {
      "cell_type": "code",
      "source": [
        "datos[-5:]"
      ],
      "metadata": {
        "colab": {
          "base_uri": "https://localhost:8080/"
        },
        "id": "liAoIwxKBEzA",
        "outputId": "23a95b07-1401-4605-e561-248f9b6b2749"
      },
      "execution_count": 30,
      "outputs": [
        {
          "output_type": "execute_result",
          "data": {
            "text/plain": [
              "(8600, 'Ana', 7600, 'Luz', 9450)"
            ]
          },
          "metadata": {},
          "execution_count": 30
        }
      ]
    },
    {
      "cell_type": "code",
      "source": [
        "datos[:4]"
      ],
      "metadata": {
        "colab": {
          "base_uri": "https://localhost:8080/"
        },
        "id": "Qzm--qPZBcx8",
        "outputId": "00d2a75d-fafe-4b3c-badf-58add9662238"
      },
      "execution_count": 33,
      "outputs": [
        {
          "output_type": "execute_result",
          "data": {
            "text/plain": [
              "('Juan', 8600, 'Ana', 7600)"
            ]
          },
          "metadata": {},
          "execution_count": 33
        }
      ]
    },
    {
      "cell_type": "code",
      "source": [
        "datos[:-3]"
      ],
      "metadata": {
        "colab": {
          "base_uri": "https://localhost:8080/"
        },
        "id": "QfCRSAMwBesk",
        "outputId": "3fb57475-f80b-4e20-a91a-825a20126edd"
      },
      "execution_count": 35,
      "outputs": [
        {
          "output_type": "execute_result",
          "data": {
            "text/plain": [
              "('Juan', 8600, 'Ana')"
            ]
          },
          "metadata": {},
          "execution_count": 35
        }
      ]
    },
    {
      "cell_type": "code",
      "source": [
        "datos[2:5]"
      ],
      "metadata": {
        "colab": {
          "base_uri": "https://localhost:8080/"
        },
        "id": "jQPzmPhOB0Y8",
        "outputId": "e933c111-e20a-488a-b3b0-303a9d0a1f2a"
      },
      "execution_count": 36,
      "outputs": [
        {
          "output_type": "execute_result",
          "data": {
            "text/plain": [
              "('Ana', 7600, 'Luz')"
            ]
          },
          "metadata": {},
          "execution_count": 36
        }
      ]
    },
    {
      "cell_type": "code",
      "source": [
        "datos[-5:-1]"
      ],
      "metadata": {
        "colab": {
          "base_uri": "https://localhost:8080/"
        },
        "id": "QUKx-sIBB_Dn",
        "outputId": "aa0be8b5-4b09-4987-edf4-8a641ccc9740"
      },
      "execution_count": 37,
      "outputs": [
        {
          "output_type": "execute_result",
          "data": {
            "text/plain": [
              "(8600, 'Ana', 7600, 'Luz')"
            ]
          },
          "metadata": {},
          "execution_count": 37
        }
      ]
    },
    {
      "cell_type": "code",
      "source": [
        "datos=list(datos)\n",
        "datos"
      ],
      "metadata": {
        "colab": {
          "base_uri": "https://localhost:8080/"
        },
        "id": "ZeyEOMtpCJQX",
        "outputId": "8effee4c-61f5-4bd7-b705-01ce16085f84"
      },
      "execution_count": 38,
      "outputs": [
        {
          "output_type": "execute_result",
          "data": {
            "text/plain": [
              "['Juan', 8600, 'Ana', 7600, 'Luz', 9450]"
            ]
          },
          "metadata": {},
          "execution_count": 38
        }
      ]
    },
    {
      "cell_type": "code",
      "source": [
        "datos=tuple(datos)\n",
        "datos"
      ],
      "metadata": {
        "colab": {
          "base_uri": "https://localhost:8080/"
        },
        "id": "uPpR7nuKCag8",
        "outputId": "d039fcaa-132a-454e-a7fb-09706428f1c1"
      },
      "execution_count": 39,
      "outputs": [
        {
          "output_type": "execute_result",
          "data": {
            "text/plain": [
              "('Juan', 8600, 'Ana', 7600, 'Luz', 9450)"
            ]
          },
          "metadata": {},
          "execution_count": 39
        }
      ]
    },
    {
      "cell_type": "code",
      "source": [
        "for x in datos:\n",
        "  print (x)"
      ],
      "metadata": {
        "colab": {
          "base_uri": "https://localhost:8080/"
        },
        "id": "OeR4llk4DEyC",
        "outputId": "23e508ae-676e-4d97-d620-fe726f9d1c75"
      },
      "execution_count": 40,
      "outputs": [
        {
          "output_type": "stream",
          "name": "stdout",
          "text": [
            "Juan\n",
            "8600\n",
            "Ana\n",
            "7600\n",
            "Luz\n",
            "9450\n"
          ]
        }
      ]
    },
    {
      "cell_type": "code",
      "source": [
        "len(datos)"
      ],
      "metadata": {
        "colab": {
          "base_uri": "https://localhost:8080/"
        },
        "id": "vCG7HsLMDPZb",
        "outputId": "2969d2cb-f03f-4be8-f827-641dfd1cf9ac"
      },
      "execution_count": 41,
      "outputs": [
        {
          "output_type": "execute_result",
          "data": {
            "text/plain": [
              "6"
            ]
          },
          "metadata": {},
          "execution_count": 41
        }
      ]
    },
    {
      "cell_type": "code",
      "source": [
        "# Diccionario\n",
        "empleados={\"Juan\":45000,\"Jose\":52000,\"Carla\":26000,\"Liz\":65000}\n",
        "empleados"
      ],
      "metadata": {
        "colab": {
          "base_uri": "https://localhost:8080/"
        },
        "id": "JYjXCI1xDmCs",
        "outputId": "6e3506d0-3d5a-472c-bac3-024bd5edef97"
      },
      "execution_count": 66,
      "outputs": [
        {
          "output_type": "execute_result",
          "data": {
            "text/plain": [
              "{'Juan': 45000, 'Jose': 52000, 'Carla': 26000, 'Liz': 65000}"
            ]
          },
          "metadata": {},
          "execution_count": 66
        }
      ]
    },
    {
      "cell_type": "code",
      "source": [
        "empleados.items()"
      ],
      "metadata": {
        "colab": {
          "base_uri": "https://localhost:8080/"
        },
        "id": "SK-xGtKJEz-T",
        "outputId": "9805d6b2-2026-453d-ec98-9ec47f4bb05d"
      },
      "execution_count": 67,
      "outputs": [
        {
          "output_type": "execute_result",
          "data": {
            "text/plain": [
              "dict_items([('Juan', 45000), ('Jose', 52000), ('Carla', 26000), ('Liz', 65000)])"
            ]
          },
          "metadata": {},
          "execution_count": 67
        }
      ]
    },
    {
      "cell_type": "code",
      "source": [
        "empleados.keys()"
      ],
      "metadata": {
        "colab": {
          "base_uri": "https://localhost:8080/"
        },
        "id": "gNCZTVS3FlCR",
        "outputId": "9402631d-1eca-4745-b777-d5ca08956289"
      },
      "execution_count": 68,
      "outputs": [
        {
          "output_type": "execute_result",
          "data": {
            "text/plain": [
              "dict_keys(['Juan', 'Jose', 'Carla', 'Liz'])"
            ]
          },
          "metadata": {},
          "execution_count": 68
        }
      ]
    },
    {
      "cell_type": "code",
      "source": [
        "empleados.values()"
      ],
      "metadata": {
        "colab": {
          "base_uri": "https://localhost:8080/"
        },
        "id": "HNSyxSnYForS",
        "outputId": "9e14b858-e5d4-4aa0-a1cc-af34392770d2"
      },
      "execution_count": 70,
      "outputs": [
        {
          "output_type": "execute_result",
          "data": {
            "text/plain": [
              "dict_values([45000, 52000, 26000, 65000])"
            ]
          },
          "metadata": {},
          "execution_count": 70
        }
      ]
    },
    {
      "cell_type": "code",
      "source": [
        "empleados[\"Juan\"]"
      ],
      "metadata": {
        "colab": {
          "base_uri": "https://localhost:8080/"
        },
        "id": "h5lW9XT7F0dY",
        "outputId": "972345bc-3ffb-4080-c683-50a50aa1fc7e"
      },
      "execution_count": 71,
      "outputs": [
        {
          "output_type": "execute_result",
          "data": {
            "text/plain": [
              "45000"
            ]
          },
          "metadata": {},
          "execution_count": 71
        }
      ]
    },
    {
      "cell_type": "code",
      "source": [
        "empleados[\"Juan\"]=100000\n",
        "empleados"
      ],
      "metadata": {
        "colab": {
          "base_uri": "https://localhost:8080/"
        },
        "id": "lPAePE8EF4rd",
        "outputId": "f8f2384e-9c9b-4320-d74a-908d6320ccd6"
      },
      "execution_count": 72,
      "outputs": [
        {
          "output_type": "execute_result",
          "data": {
            "text/plain": [
              "{'Juan': 100000, 'Jose': 52000, 'Carla': 26000, 'Liz': 65000}"
            ]
          },
          "metadata": {},
          "execution_count": 72
        }
      ]
    },
    {
      "cell_type": "code",
      "source": [
        "empleados[\"Juan\"]=[45000,35000,20000]\n",
        "empleados"
      ],
      "metadata": {
        "colab": {
          "base_uri": "https://localhost:8080/"
        },
        "id": "rV4_CIkKGDaB",
        "outputId": "2e3a98e0-9b70-410d-fe37-3f3642baec81"
      },
      "execution_count": 73,
      "outputs": [
        {
          "output_type": "execute_result",
          "data": {
            "text/plain": [
              "{'Juan': [45000, 35000, 20000], 'Jose': 52000, 'Carla': 26000, 'Liz': 65000}"
            ]
          },
          "metadata": {},
          "execution_count": 73
        }
      ]
    },
    {
      "cell_type": "code",
      "source": [
        "for x,y in empleados.items():\n",
        "  print(x,\"----> S/.\",y)"
      ],
      "metadata": {
        "colab": {
          "base_uri": "https://localhost:8080/"
        },
        "id": "T-fM0M4tG4sz",
        "outputId": "a09fa0c4-9bf5-436a-8677-06f7ba8c255c"
      },
      "execution_count": 74,
      "outputs": [
        {
          "output_type": "stream",
          "name": "stdout",
          "text": [
            "Juan ----> S/. [45000, 35000, 20000]\n",
            "Jose ----> S/. 52000\n",
            "Carla ----> S/. 26000\n",
            "Liz ----> S/. 65000\n"
          ]
        }
      ]
    },
    {
      "cell_type": "code",
      "source": [
        "empleados.pop(\"Juan\")\n",
        "empleados"
      ],
      "metadata": {
        "colab": {
          "base_uri": "https://localhost:8080/"
        },
        "id": "Y7-vJe9PIGRt",
        "outputId": "5ab3d77a-316f-4591-9a4b-8c7e75e596bc"
      },
      "execution_count": 75,
      "outputs": [
        {
          "output_type": "execute_result",
          "data": {
            "text/plain": [
              "{'Jose': 52000, 'Carla': 26000, 'Liz': 65000}"
            ]
          },
          "metadata": {},
          "execution_count": 75
        }
      ]
    },
    {
      "cell_type": "code",
      "source": [
        "len(empleados)"
      ],
      "metadata": {
        "colab": {
          "base_uri": "https://localhost:8080/"
        },
        "id": "GGDAbzlJIbbN",
        "outputId": "5fda37c9-8b35-4c58-ff25-7ec9a11ed19f"
      },
      "execution_count": 76,
      "outputs": [
        {
          "output_type": "execute_result",
          "data": {
            "text/plain": [
              "3"
            ]
          },
          "metadata": {},
          "execution_count": 76
        }
      ]
    },
    {
      "cell_type": "code",
      "source": [
        "empleados.clear()\n",
        "empleados"
      ],
      "metadata": {
        "colab": {
          "base_uri": "https://localhost:8080/"
        },
        "id": "ZC6bRHFsIvcu",
        "outputId": "b0abd56b-c2ee-49af-d22a-b54e48effb08"
      },
      "execution_count": 77,
      "outputs": [
        {
          "output_type": "execute_result",
          "data": {
            "text/plain": [
              "{}"
            ]
          },
          "metadata": {},
          "execution_count": 77
        }
      ]
    },
    {
      "cell_type": "markdown",
      "source": [
        "Desarrolle un programa que registre contactos: Nombre, teléfono y correo. Mostrar\n",
        "los contactos registrados."
      ],
      "metadata": {
        "id": "nW6CvfAqLvif"
      }
    },
    {
      "cell_type": "code",
      "source": [
        "contactos={}\n",
        "def problema1(nombre,telefono,correo):\n",
        "  contactos[nombre]=[telefono,correo]\n",
        "  for x,y in contactos.items():\n",
        "    print(x,\"---->\",y)"
      ],
      "metadata": {
        "id": "O_lwUFJnL7GM"
      },
      "execution_count": 83,
      "outputs": []
    },
    {
      "cell_type": "code",
      "source": [
        "problema1(\"Carlos\",988462761,\"carlos@hotmail.com\")"
      ],
      "metadata": {
        "colab": {
          "base_uri": "https://localhost:8080/"
        },
        "id": "_M3CDtzuMzB2",
        "outputId": "b7ea5689-13e7-42f4-ae30-b9fab584ff44"
      },
      "execution_count": 86,
      "outputs": [
        {
          "output_type": "stream",
          "name": "stdout",
          "text": [
            "Juan ----> [9948248592, 'juan@hotmail.com']\n",
            "Rosa ----> [98474375638, 'rosa@hotmail.com']\n",
            "Carlos ----> [988462761, 'carlos@hotmail.com']\n"
          ]
        }
      ]
    },
    {
      "cell_type": "markdown",
      "source": [
        "- Desarrolle un programa que registre contactos: Nombre, país.\n",
        "Imprima solo a los contactos de un país. Mostrar los contactos registrados"
      ],
      "metadata": {
        "id": "LoQFbtnbPC7o"
      }
    },
    {
      "cell_type": "code",
      "source": [
        "contactos={\"Juan\":\"Perú\",\"Jose\":\"Chile\",\"Ana\":\"Colombia\"}\n",
        "def problema2(nombre,pais,country):\n",
        "  contactos[nombre]=pais\n",
        "  for x,y in contactos.items():\n",
        "    if y==country:\n",
        "      print(x,\"---->\",y)"
      ],
      "metadata": {
        "id": "7q90BO9OPGD5"
      },
      "execution_count": 88,
      "outputs": []
    },
    {
      "cell_type": "code",
      "source": [
        "problema2(\"Rosa\",\"Chile\",\"Chile\")"
      ],
      "metadata": {
        "colab": {
          "base_uri": "https://localhost:8080/"
        },
        "id": "0ezpCDbCP1Jk",
        "outputId": "6492b76c-52d9-42ef-821e-b82e4bbdc5a3"
      },
      "execution_count": 89,
      "outputs": [
        {
          "output_type": "stream",
          "name": "stdout",
          "text": [
            "Jose ----> Chile\n",
            "Rosa ----> Chile\n"
          ]
        }
      ]
    },
    {
      "cell_type": "markdown",
      "source": [
        "- Desarrolle un programa que realice una encuesta de 3 opciones preguntando: ¿Qué\n",
        "lenguaje de programación prefiere?\n",
        "Mostrar los resultados de la encuesta."
      ],
      "metadata": {
        "id": "IK0VTQJnStE2"
      }
    },
    {
      "cell_type": "code",
      "source": [
        "programas={\"PHP\":0,\"JAVA\":0,\"Python\":0}\n",
        "def problema3(software):\n",
        "  programas[software]=programas[software]+1\n",
        "  for x,y in programas.items():\n",
        "    print(x,\"--->\",y)"
      ],
      "metadata": {
        "id": "87S_3LDaSwrH"
      },
      "execution_count": 90,
      "outputs": []
    },
    {
      "cell_type": "code",
      "source": [
        "problema3(\"PHP\")"
      ],
      "metadata": {
        "colab": {
          "base_uri": "https://localhost:8080/"
        },
        "id": "xRAA-u7HTX_d",
        "outputId": "9a60087c-3e1c-4bb1-99a3-b7fa1458bec2"
      },
      "execution_count": 93,
      "outputs": [
        {
          "output_type": "stream",
          "name": "stdout",
          "text": [
            "PHP ---> 3\n",
            "JAVA ---> 0\n",
            "Python ---> 0\n"
          ]
        }
      ]
    },
    {
      "cell_type": "code",
      "source": [
        "problema3(\"Python\")"
      ],
      "metadata": {
        "colab": {
          "base_uri": "https://localhost:8080/"
        },
        "id": "bj6YJaSbTnu1",
        "outputId": "5633a0e8-d889-4ad2-e54d-b17a71b1a257"
      },
      "execution_count": 96,
      "outputs": [
        {
          "output_type": "stream",
          "name": "stdout",
          "text": [
            "PHP ---> 3\n",
            "JAVA ---> 0\n",
            "Python ---> 2\n"
          ]
        }
      ]
    },
    {
      "cell_type": "code",
      "source": [
        "problema3(\"JAVA\")"
      ],
      "metadata": {
        "colab": {
          "base_uri": "https://localhost:8080/"
        },
        "id": "wt5NV7hYTsi2",
        "outputId": "641f0a82-1da4-4026-87ca-58113b8dd5a1"
      },
      "execution_count": 97,
      "outputs": [
        {
          "output_type": "stream",
          "name": "stdout",
          "text": [
            "PHP ---> 3\n",
            "JAVA ---> 1\n",
            "Python ---> 2\n"
          ]
        }
      ]
    },
    {
      "cell_type": "markdown",
      "source": [
        "- Desarrolla un programa que evaluación con 4 preguntas a los estudiantes. Ellos se\n",
        "registran y se almacena su puntaje"
      ],
      "metadata": {
        "id": "eWuwI-WqWzo8"
      }
    },
    {
      "cell_type": "code",
      "source": [
        "preguntas={\"2*2=\":\"4\",\"4+5=\":\"9\",\"20-10=\":\"10\",\"45/92=\":\"5\"}\n",
        "resultados={}\n",
        "def problema4():\n",
        "  estudiante=input(\"Ingrese nombre estudiante: \")\n",
        "  puntaje=0\n",
        "  for x,y in preguntas.items():\n",
        "    respuesta=input(x)\n",
        "    if respuesta==y:\n",
        "      puntaje=puntaje+5\n",
        "  resultados[estudiante]=puntaje\n",
        "  print(\"\\nResultados:\")\n",
        "  for x,y in resultados.items():\n",
        "    print(x,\"----->\",y)"
      ],
      "metadata": {
        "id": "Wnlr0RHBW0Xf"
      },
      "execution_count": 99,
      "outputs": []
    },
    {
      "cell_type": "code",
      "source": [
        "problema4()"
      ],
      "metadata": {
        "colab": {
          "base_uri": "https://localhost:8080/"
        },
        "id": "LClkuWsHYMtD",
        "outputId": "e4f47780-e60f-4bdd-cc76-23400f44c104"
      },
      "execution_count": 100,
      "outputs": [
        {
          "output_type": "stream",
          "name": "stdout",
          "text": [
            "Ingrese nombre estudiante: Diego\n",
            "2*2=4\n",
            "4+5=9\n",
            "20-10=4\n",
            "45/92=7\n",
            "\n",
            "Resultados:\n",
            "Diego -----> 10\n"
          ]
        }
      ]
    }
  ]
}